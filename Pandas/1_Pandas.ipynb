{
  "nbformat": 4,
  "nbformat_minor": 0,
  "metadata": {
    "colab": {
      "name": "1-Pandas.ipynb",
      "provenance": []
    },
    "kernelspec": {
      "name": "python3",
      "display_name": "Python 3"
    },
    "language_info": {
      "name": "python"
    }
  },
  "cells": [
    {
      "cell_type": "code",
      "execution_count": 1,
      "metadata": {
        "id": "dhMCGclA8U77"
      },
      "outputs": [],
      "source": [
        "import numpy as np \n",
        "import pandas as pd"
      ]
    },
    {
      "cell_type": "markdown",
      "source": [
        "series"
      ],
      "metadata": {
        "id": "nXFfcNQ_Chmf"
      }
    },
    {
      "cell_type": "code",
      "source": [
        "mydict={\"fatmanur\":21,\"kübra\":17,\"gamze\":15}"
      ],
      "metadata": {
        "id": "L-_AgGvMCxfr"
      },
      "execution_count": 2,
      "outputs": []
    },
    {
      "cell_type": "code",
      "source": [
        "pd.Series(mydict)"
      ],
      "metadata": {
        "colab": {
          "base_uri": "https://localhost:8080/"
        },
        "id": "cPbZPsOVDjj-",
        "outputId": "4ac23b3c-e1e9-4f48-b70d-f99f72ee01b6"
      },
      "execution_count": 3,
      "outputs": [
        {
          "output_type": "execute_result",
          "data": {
            "text/plain": [
              "fatmanur    21\n",
              "kübra       17\n",
              "gamze       15\n",
              "dtype: int64"
            ]
          },
          "metadata": {},
          "execution_count": 3
        }
      ]
    },
    {
      "cell_type": "code",
      "source": [
        "myage=[21,17,15]\n",
        "myname=[\"fatmanur\",\"kübra\",\"gamze\"]"
      ],
      "metadata": {
        "id": "i60qSM5FDo1d"
      },
      "execution_count": 4,
      "outputs": []
    },
    {
      "cell_type": "code",
      "source": [
        "pd.Series(myage,myname)"
      ],
      "metadata": {
        "colab": {
          "base_uri": "https://localhost:8080/"
        },
        "id": "Am92ubKNEIII",
        "outputId": "9dd62ae6-80bb-4c9d-b33e-76e144568e93"
      },
      "execution_count": 5,
      "outputs": [
        {
          "output_type": "execute_result",
          "data": {
            "text/plain": [
              "fatmanur    21\n",
              "kübra       17\n",
              "gamze       15\n",
              "dtype: int64"
            ]
          },
          "metadata": {},
          "execution_count": 5
        }
      ]
    },
    {
      "cell_type": "code",
      "source": [
        "pd.Series(data=myage, index=myname)"
      ],
      "metadata": {
        "colab": {
          "base_uri": "https://localhost:8080/"
        },
        "id": "hQQnHJPgENjq",
        "outputId": "5c63e3c3-594d-4a81-b691-c307e432413d"
      },
      "execution_count": 6,
      "outputs": [
        {
          "output_type": "execute_result",
          "data": {
            "text/plain": [
              "fatmanur    21\n",
              "kübra       17\n",
              "gamze       15\n",
              "dtype: int64"
            ]
          },
          "metadata": {},
          "execution_count": 6
        }
      ]
    },
    {
      "cell_type": "code",
      "source": [
        "numpyarray=np.array([50,40,30])"
      ],
      "metadata": {
        "id": "eBLiLPvWEZMS"
      },
      "execution_count": 7,
      "outputs": []
    },
    {
      "cell_type": "code",
      "source": [
        "numpyarray"
      ],
      "metadata": {
        "colab": {
          "base_uri": "https://localhost:8080/"
        },
        "id": "8rnBlKRmEp86",
        "outputId": "f17fe1e4-1f12-4fe9-9000-0ad97817a4e1"
      },
      "execution_count": 8,
      "outputs": [
        {
          "output_type": "execute_result",
          "data": {
            "text/plain": [
              "array([50, 40, 30])"
            ]
          },
          "metadata": {},
          "execution_count": 8
        }
      ]
    },
    {
      "cell_type": "code",
      "source": [
        "pd.Series(numpyarray)"
      ],
      "metadata": {
        "colab": {
          "base_uri": "https://localhost:8080/"
        },
        "id": "FpiA8YJ-ErUh",
        "outputId": "2d3012a6-08ec-4c63-f370-2b77dfe95197"
      },
      "execution_count": 9,
      "outputs": [
        {
          "output_type": "execute_result",
          "data": {
            "text/plain": [
              "0    50\n",
              "1    40\n",
              "2    30\n",
              "dtype: int64"
            ]
          },
          "metadata": {},
          "execution_count": 9
        }
      ]
    },
    {
      "cell_type": "code",
      "source": [
        "pd.Series([\"fatmanur\",\"atlas\",\"osman\"],[1,2,3])"
      ],
      "metadata": {
        "colab": {
          "base_uri": "https://localhost:8080/"
        },
        "id": "-dOm7fxmEwrA",
        "outputId": "9191cf80-2146-4a6d-e781-c0c20d0bf9b9"
      },
      "execution_count": 10,
      "outputs": [
        {
          "output_type": "execute_result",
          "data": {
            "text/plain": [
              "1    fatmanur\n",
              "2       atlas\n",
              "3       osman\n",
              "dtype: object"
            ]
          },
          "metadata": {},
          "execution_count": 10
        }
      ]
    },
    {
      "cell_type": "code",
      "source": [
        "yarismaSonucu=pd.Series([10,5,1],[\"fatmanur\",\"atlas\",\"osman\"])"
      ],
      "metadata": {
        "id": "RWPHMMq_FKpY"
      },
      "execution_count": 11,
      "outputs": []
    },
    {
      "cell_type": "code",
      "source": [
        "yarismaSonucu"
      ],
      "metadata": {
        "colab": {
          "base_uri": "https://localhost:8080/"
        },
        "id": "6EHz0zNKFl-r",
        "outputId": "18914310-edce-4dfc-959b-4576a460bccb"
      },
      "execution_count": 12,
      "outputs": [
        {
          "output_type": "execute_result",
          "data": {
            "text/plain": [
              "fatmanur    10\n",
              "atlas        5\n",
              "osman        1\n",
              "dtype: int64"
            ]
          },
          "metadata": {},
          "execution_count": 12
        }
      ]
    },
    {
      "cell_type": "code",
      "source": [
        "yarismaSonucu1=pd.Series([20,10,8],[\"fatmanur\",\"atlas\",\"osman\"])"
      ],
      "metadata": {
        "id": "0mcl9GjVFn8_"
      },
      "execution_count": 13,
      "outputs": []
    },
    {
      "cell_type": "code",
      "source": [
        "yarismaSonucu1"
      ],
      "metadata": {
        "colab": {
          "base_uri": "https://localhost:8080/"
        },
        "id": "YtiT5AcBF4d-",
        "outputId": "e3e4d8ec-0f80-4ae1-c3b3-c87b51bf0474"
      },
      "execution_count": 14,
      "outputs": [
        {
          "output_type": "execute_result",
          "data": {
            "text/plain": [
              "fatmanur    20\n",
              "atlas       10\n",
              "osman        8\n",
              "dtype: int64"
            ]
          },
          "metadata": {},
          "execution_count": 14
        }
      ]
    },
    {
      "cell_type": "code",
      "source": [
        "sonSonuc=yarismaSonucu+yarismaSonucu1"
      ],
      "metadata": {
        "id": "nrfg3z4gF_Yf"
      },
      "execution_count": 15,
      "outputs": []
    },
    {
      "cell_type": "code",
      "source": [
        "sonSonuc"
      ],
      "metadata": {
        "colab": {
          "base_uri": "https://localhost:8080/"
        },
        "id": "spvrOr5mGPtD",
        "outputId": "78c1b5e3-f5f2-4baf-8a17-8af1ef98cf9d"
      },
      "execution_count": 16,
      "outputs": [
        {
          "output_type": "execute_result",
          "data": {
            "text/plain": [
              "fatmanur    30\n",
              "atlas       15\n",
              "osman        9\n",
              "dtype: int64"
            ]
          },
          "metadata": {},
          "execution_count": 16
        }
      ]
    },
    {
      "cell_type": "code",
      "source": [
        "farkliSeries=pd.Series([20,30,40,50],[\"a\",\"b\",\"c\",\"d\"])"
      ],
      "metadata": {
        "id": "S6nYqeEaGS4D"
      },
      "execution_count": 17,
      "outputs": []
    },
    {
      "cell_type": "code",
      "source": [
        "farkliSeries2=pd.Series=pd.Series([10,5,3,1],[\"a\",\"c\",\"f\",\"g\"])"
      ],
      "metadata": {
        "id": "ly6MWyH2GtFP"
      },
      "execution_count": 18,
      "outputs": []
    },
    {
      "cell_type": "code",
      "source": [
        "sonuc=farkliSeries+ farkliSeries2"
      ],
      "metadata": {
        "id": "2X_he2MzHAN7"
      },
      "execution_count": 20,
      "outputs": []
    },
    {
      "cell_type": "code",
      "source": [
        "sonuc"
      ],
      "metadata": {
        "colab": {
          "base_uri": "https://localhost:8080/"
        },
        "id": "2zRRXJqXHIUJ",
        "outputId": "6cf0629d-b85e-4618-91c9-37d525046d78"
      },
      "execution_count": 21,
      "outputs": [
        {
          "output_type": "execute_result",
          "data": {
            "text/plain": [
              "a    30.0\n",
              "b     NaN\n",
              "c    45.0\n",
              "d     NaN\n",
              "f     NaN\n",
              "g     NaN\n",
              "dtype: float64"
            ]
          },
          "metadata": {},
          "execution_count": 21
        }
      ]
    },
    {
      "cell_type": "code",
      "source": [
        ""
      ],
      "metadata": {
        "id": "UmF0yn4PHJfl"
      },
      "execution_count": null,
      "outputs": []
    }
  ]
}
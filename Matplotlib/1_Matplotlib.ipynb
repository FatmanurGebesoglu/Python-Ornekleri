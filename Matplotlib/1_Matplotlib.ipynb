{
  "nbformat": 4,
  "nbformat_minor": 0,
  "metadata": {
    "colab": {
      "name": "1-Matplotlib.ipynb",
      "provenance": [],
      "collapsed_sections": []
    },
    "kernelspec": {
      "name": "python3",
      "display_name": "Python 3"
    },
    "language_info": {
      "name": "python"
    }
  },
  "cells": [
    {
      "cell_type": "code",
      "execution_count": 1,
      "metadata": {
        "id": "wx2p8mnuKhpZ"
      },
      "outputs": [],
      "source": [
        "import numpy as np\n",
        "import pandas as pd\n",
        "import matplotlib.pyplot as plt"
      ]
    },
    {
      "cell_type": "code",
      "source": [
        "%matplotlib inline"
      ],
      "metadata": {
        "id": "ytvhS1xOMRXF"
      },
      "execution_count": 16,
      "outputs": []
    },
    {
      "cell_type": "code",
      "source": [
        "yaslistesi=[10,20,30,30,30,40,50,60,70,75]"
      ],
      "metadata": {
        "id": "gQBWgTUGMl4Y"
      },
      "execution_count": 17,
      "outputs": []
    },
    {
      "cell_type": "code",
      "source": [
        "kilolistesi=[20,60,80,85,86,87,70,90,95,90]"
      ],
      "metadata": {
        "id": "0UGMx8Z5M2vJ"
      },
      "execution_count": 18,
      "outputs": []
    },
    {
      "cell_type": "code",
      "source": [
        "numpyyaslistesi=np.array(yaslistesi)"
      ],
      "metadata": {
        "id": "bPnXL0pONGSs"
      },
      "execution_count": 19,
      "outputs": []
    },
    {
      "cell_type": "code",
      "source": [
        "numpykilolistesi=np.array(kilolistesi)"
      ],
      "metadata": {
        "id": "_9Ef-VK6NalP"
      },
      "execution_count": 20,
      "outputs": []
    },
    {
      "cell_type": "code",
      "source": [
        "plt.plot(numpykilolistesi,numpykilolistesi,\"r\")\n",
        "plt.xlabel(\"yas\")\n",
        "plt.ylabel(\"kilo\")\n",
        "plt.title(\"kilonun yaşa göre değişim grafiği\")\n",
        "##plt.show()"
      ],
      "metadata": {
        "colab": {
          "base_uri": "https://localhost:8080/",
          "height": 313
        },
        "id": "rSWw9ANsNf_D",
        "outputId": "f9935302-4430-4cbe-f1b1-81a80c58b204"
      },
      "execution_count": 22,
      "outputs": [
        {
          "output_type": "execute_result",
          "data": {
            "text/plain": [
              "Text(0.5, 1.0, 'kilonun yaşa göre değişim grafiği')"
            ]
          },
          "metadata": {},
          "execution_count": 22
        },
        {
          "output_type": "display_data",
          "data": {
            "image/png": "[encoded data removed]",
            "text/plain": [
              "<Figure size 432x288 with 1 Axes>"
            ]
          },
          "metadata": {
            "needs_background": "light"
          }
        }
      ]
    },
    {
      "cell_type": "code",
      "source": [
        ""
      ],
      "metadata": {
        "id": "O2bORXA4N3bu"
      },
      "execution_count": null,
      "outputs": []
    }
  ]
}
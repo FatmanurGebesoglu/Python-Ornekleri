{
  "nbformat": 4,
  "nbformat_minor": 0,
  "metadata": {
    "colab": {
      "name": "14-decorator.ipynb",
      "provenance": []
    },
    "kernelspec": {
      "name": "python3",
      "display_name": "Python 3"
    },
    "language_info": {
      "name": "python"
    }
  },
  "cells": [
    {
      "cell_type": "code",
      "execution_count": 3,
      "metadata": {
        "id": "z2I_YFTNO5oW"
      },
      "outputs": [],
      "source": [
        "def func(newfunc):\n",
        "  print(\"func started\")\n",
        "  newfunc()\n",
        "  print(\"func ended\")"
      ]
    },
    {
      "cell_type": "code",
      "source": [
        "def hellofunc():\n",
        "  print(\"hello\")"
      ],
      "metadata": {
        "id": "PlQDbs_MP8Iu"
      },
      "execution_count": 4,
      "outputs": []
    },
    {
      "cell_type": "code",
      "source": [
        "func(hellofunc)"
      ],
      "metadata": {
        "colab": {
          "base_uri": "https://localhost:8080/"
        },
        "id": "63kU3clpQLbW",
        "outputId": "47f69f65-9ed6-41ff-f251-51fb87e840d9"
      },
      "execution_count": 6,
      "outputs": [
        {
          "output_type": "stream",
          "name": "stdout",
          "text": [
            "func started\n",
            "hello\n",
            "func ended\n"
          ]
        }
      ]
    },
    {
      "cell_type": "code",
      "source": [
        "def newfunc2():\n",
        "  print(\"new func\")\n",
        "  def newfunc3():\n",
        "    print(\"new func3\")\n",
        "  return newfunc3  "
      ],
      "metadata": {
        "id": "vHdMniOzQWGS"
      },
      "execution_count": 9,
      "outputs": []
    },
    {
      "cell_type": "code",
      "source": [
        "newstring=newfunc2()"
      ],
      "metadata": {
        "colab": {
          "base_uri": "https://localhost:8080/"
        },
        "id": "EWLGBDOFRNrG",
        "outputId": "0fb57557-98f4-4096-da2d-1c5b3ddd34a4"
      },
      "execution_count": 12,
      "outputs": [
        {
          "output_type": "stream",
          "name": "stdout",
          "text": [
            "new func\n"
          ]
        }
      ]
    },
    {
      "cell_type": "code",
      "source": [
        "newstring()"
      ],
      "metadata": {
        "colab": {
          "base_uri": "https://localhost:8080/"
        },
        "id": "XZRAv37SRRoS",
        "outputId": "98697e90-bbfe-46c3-977e-89bf968e7790"
      },
      "execution_count": 13,
      "outputs": [
        {
          "output_type": "stream",
          "name": "stdout",
          "text": [
            "new func3\n"
          ]
        }
      ]
    }
  ]
}
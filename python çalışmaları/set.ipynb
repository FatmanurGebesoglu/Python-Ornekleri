{
  "nbformat": 4,
  "nbformat_minor": 0,
  "metadata": {
    "colab": {
      "name": "set.ipynb",
      "provenance": []
    },
    "kernelspec": {
      "name": "python3",
      "display_name": "Python 3"
    },
    "language_info": {
      "name": "python"
    }
  },
  "cells": [
    {
      "cell_type": "code",
      "execution_count": 1,
      "metadata": {
        "colab": {
          "base_uri": "https://localhost:8080/"
        },
        "id": "m3JxqoeZ7Weo",
        "outputId": "56be89be-d2ce-4e87-bcab-0c55fd59cd77"
      },
      "outputs": [
        {
          "output_type": "execute_result",
          "data": {
            "text/plain": [
              "[1, 2, 3, 1]"
            ]
          },
          "metadata": {},
          "execution_count": 1
        }
      ],
      "source": [
        "my_list=[1,2,3,1]\n",
        "my_list"
      ]
    },
    {
      "cell_type": "markdown",
      "source": [
        "set oluşturursak aynı elemandan tekrar koyamayız"
      ],
      "metadata": {
        "id": "5hzMpIfv7p1k"
      }
    },
    {
      "cell_type": "code",
      "source": [
        "my_set=set(my_list)"
      ],
      "metadata": {
        "id": "BK3rXzZ57vPG"
      },
      "execution_count": 3,
      "outputs": []
    },
    {
      "cell_type": "code",
      "source": [
        "my_set"
      ],
      "metadata": {
        "colab": {
          "base_uri": "https://localhost:8080/"
        },
        "id": "6z6szovI7-mA",
        "outputId": "f0d4ee38-aa71-4378-95c0-7f7d9c560e77"
      },
      "execution_count": 7,
      "outputs": [
        {
          "output_type": "execute_result",
          "data": {
            "text/plain": [
              "{1, 2, 3}"
            ]
          },
          "metadata": {},
          "execution_count": 7
        }
      ]
    },
    {
      "cell_type": "code",
      "source": [
        "my_list"
      ],
      "metadata": {
        "colab": {
          "base_uri": "https://localhost:8080/"
        },
        "id": "SaB2mlXA8LK6",
        "outputId": "cdbb9bf1-3f6a-4d00-a9b5-79263d18fd25"
      },
      "execution_count": 8,
      "outputs": [
        {
          "output_type": "execute_result",
          "data": {
            "text/plain": [
              "[1, 2, 3, 1]"
            ]
          },
          "metadata": {},
          "execution_count": 8
        }
      ]
    },
    {
      "cell_type": "code",
      "source": [
        "my_set2={1,2,3,1,2,2,2,2}\n",
        "my_set2"
      ],
      "metadata": {
        "colab": {
          "base_uri": "https://localhost:8080/"
        },
        "id": "i9txc-9B83gV",
        "outputId": "147457dc-3d58-40de-db08-55419e0d90e6"
      },
      "execution_count": 9,
      "outputs": [
        {
          "output_type": "execute_result",
          "data": {
            "text/plain": [
              "{1, 2, 3}"
            ]
          },
          "metadata": {},
          "execution_count": 9
        }
      ]
    },
    {
      "cell_type": "markdown",
      "source": [
        "set i tanımlarken içine ne kadar aynı değerden koyarsan koy 1 tanesi alınır"
      ],
      "metadata": {
        "id": "bZMH6Dvn9BEG"
      }
    },
    {
      "cell_type": "markdown",
      "source": [
        "boş bir set açmak için;"
      ],
      "metadata": {
        "id": "-cUospnZ9nQH"
      }
    },
    {
      "cell_type": "code",
      "source": [
        "my_bos_set=set()"
      ],
      "metadata": {
        "id": "8brGfUe09sS8"
      },
      "execution_count": 10,
      "outputs": []
    },
    {
      "cell_type": "code",
      "source": [
        "my_bos_set"
      ],
      "metadata": {
        "colab": {
          "base_uri": "https://localhost:8080/"
        },
        "id": "QyqFtBVG9z8N",
        "outputId": "74807524-7b51-465b-b2aa-d7043067a90e"
      },
      "execution_count": 11,
      "outputs": [
        {
          "output_type": "execute_result",
          "data": {
            "text/plain": [
              "set()"
            ]
          },
          "metadata": {},
          "execution_count": 11
        }
      ]
    },
    {
      "cell_type": "code",
      "source": [
        "my_bos_set.add(1)\n",
        "my_bos_set.add(2)\n",
        "my_bos_set.add(2)\n",
        "my_bos_set.add(3)"
      ],
      "metadata": {
        "id": "K0QaheGW932i"
      },
      "execution_count": 12,
      "outputs": []
    },
    {
      "cell_type": "code",
      "source": [
        "my_bos_set"
      ],
      "metadata": {
        "colab": {
          "base_uri": "https://localhost:8080/"
        },
        "id": "53McmY1a-Cht",
        "outputId": "5f2e9f1f-1cea-4a37-b3b7-2d3999642915"
      },
      "execution_count": 13,
      "outputs": [
        {
          "output_type": "execute_result",
          "data": {
            "text/plain": [
              "{1, 2, 3}"
            ]
          },
          "metadata": {},
          "execution_count": 13
        }
      ]
    }
  ]
}
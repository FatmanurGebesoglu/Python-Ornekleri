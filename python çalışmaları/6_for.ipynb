{
  "nbformat": 4,
  "nbformat_minor": 0,
  "metadata": {
    "colab": {
      "name": "6-for.ipynb",
      "provenance": []
    },
    "kernelspec": {
      "name": "python3",
      "display_name": "Python 3"
    },
    "language_info": {
      "name": "python"
    }
  },
  "cells": [
    {
      "cell_type": "code",
      "execution_count": 2,
      "metadata": {
        "id": "83EYrYBCcVKY"
      },
      "outputs": [],
      "source": [
        "list1=[1,2,3,4,5]"
      ]
    },
    {
      "cell_type": "code",
      "source": [
        "for number in list1:\n",
        "  print(\"fatmanur\")"
      ],
      "metadata": {
        "colab": {
          "base_uri": "https://localhost:8080/"
        },
        "id": "06sIGqh6ccNR",
        "outputId": "4cd196f1-cbf8-4149-acd6-6a532e05a601"
      },
      "execution_count": 3,
      "outputs": [
        {
          "output_type": "stream",
          "name": "stdout",
          "text": [
            "fatmanur\n",
            "fatmanur\n",
            "fatmanur\n",
            "fatmanur\n",
            "fatmanur\n"
          ]
        }
      ]
    },
    {
      "cell_type": "code",
      "source": [
        "for item in  list1:\n",
        "  newnumber=item*5\n",
        "  print(newnumber)\n"
      ],
      "metadata": {
        "colab": {
          "base_uri": "https://localhost:8080/"
        },
        "id": "FwUzeOmscn8F",
        "outputId": "9d168f58-2b32-4ee6-9c1b-44950eb12f68"
      },
      "execution_count": 4,
      "outputs": [
        {
          "output_type": "stream",
          "name": "stdout",
          "text": [
            "5\n",
            "10\n",
            "15\n",
            "20\n",
            "25\n"
          ]
        }
      ]
    },
    {
      "cell_type": "code",
      "source": [
        "for number in list1:\n",
        "  if number%2==0:\n",
        "    print(\"çift sayı\")\n",
        "  else:\n",
        "    print(\"tek sayı\")  "
      ],
      "metadata": {
        "colab": {
          "base_uri": "https://localhost:8080/"
        },
        "id": "H_SMFcQYc_up",
        "outputId": "22805678-d224-4ae8-9218-f0f9c639c073"
      },
      "execution_count": 5,
      "outputs": [
        {
          "output_type": "stream",
          "name": "stdout",
          "text": [
            "tek sayı\n",
            "çift sayı\n",
            "tek sayı\n",
            "çift sayı\n",
            "tek sayı\n"
          ]
        }
      ]
    },
    {
      "cell_type": "code",
      "source": [
        "mystring=\"fatmanur gebeşoğlu\""
      ],
      "metadata": {
        "id": "oQ1LAsW3dvGg"
      },
      "execution_count": 6,
      "outputs": []
    },
    {
      "cell_type": "code",
      "source": [
        "for letter in mystring:\n",
        "  print(letter)"
      ],
      "metadata": {
        "colab": {
          "base_uri": "https://localhost:8080/"
        },
        "id": "bPHWu8Jwd4gM",
        "outputId": "ae21fd7e-be12-4143-d7f6-cbaf786a99e1"
      },
      "execution_count": 7,
      "outputs": [
        {
          "output_type": "stream",
          "name": "stdout",
          "text": [
            "f\n",
            "a\n",
            "t\n",
            "m\n",
            "a\n",
            "n\n",
            "u\n",
            "r\n",
            " \n",
            "g\n",
            "e\n",
            "b\n",
            "e\n",
            "ş\n",
            "o\n",
            "ğ\n",
            "l\n",
            "u\n"
          ]
        }
      ]
    },
    {
      "cell_type": "code",
      "source": [
        "mytuple=(1,2,3)"
      ],
      "metadata": {
        "id": "SRVcPQSoeDOG"
      },
      "execution_count": 8,
      "outputs": []
    },
    {
      "cell_type": "code",
      "source": [
        "for item in mytuple:\n",
        "  print(item*5-10)\n",
        "#tuple değişmez   "
      ],
      "metadata": {
        "colab": {
          "base_uri": "https://localhost:8080/"
        },
        "id": "le9Liq_reK62",
        "outputId": "f0ff7955-1385-4c50-b717-814d9798946f"
      },
      "execution_count": 10,
      "outputs": [
        {
          "output_type": "stream",
          "name": "stdout",
          "text": [
            "-5\n",
            "0\n",
            "5\n"
          ]
        }
      ]
    },
    {
      "cell_type": "code",
      "source": [
        "list2=[(\"a\",\"b\"),(\"c\",\"d\"),(\"e\",\"f\"),(\"g\",\"h\")]\n",
        "#içinde tuple bulunan bir liste"
      ],
      "metadata": {
        "id": "4PIuO02hegSz"
      },
      "execution_count": 12,
      "outputs": []
    },
    {
      "cell_type": "code",
      "source": [
        "for element in list2 :\n",
        "  print(element)"
      ],
      "metadata": {
        "colab": {
          "base_uri": "https://localhost:8080/"
        },
        "id": "w8yZa_lAq4HU",
        "outputId": "759123a9-ca82-4baa-e6df-3c2fd5cc7490"
      },
      "execution_count": 13,
      "outputs": [
        {
          "output_type": "stream",
          "name": "stdout",
          "text": [
            "('a', 'b')\n",
            "('c', 'd')\n",
            "('e', 'f')\n",
            "('g', 'h')\n"
          ]
        }
      ]
    },
    {
      "cell_type": "code",
      "source": [
        "for (x,y) in list2:\n",
        "  print((x,y))"
      ],
      "metadata": {
        "colab": {
          "base_uri": "https://localhost:8080/"
        },
        "id": "UsdAdtGctGjg",
        "outputId": "755f9e6e-1e18-4b2d-94b7-d40f0853ad54"
      },
      "execution_count": 14,
      "outputs": [
        {
          "output_type": "stream",
          "name": "stdout",
          "text": [
            "('a', 'b')\n",
            "('c', 'd')\n",
            "('e', 'f')\n",
            "('g', 'h')\n"
          ]
        }
      ]
    },
    {
      "cell_type": "code",
      "source": [
        "tuplelist1=[(0,1,2),(3,4,5),(6,7,8)]"
      ],
      "metadata": {
        "id": "qqxJe8Q4taoJ"
      },
      "execution_count": 15,
      "outputs": []
    },
    {
      "cell_type": "code",
      "source": [
        "for (x,y,z) in tuplelist1:\n",
        "  print(x,y,z)"
      ],
      "metadata": {
        "colab": {
          "base_uri": "https://localhost:8080/"
        },
        "id": "y5_HaG-7tqln",
        "outputId": "471e0bf4-04c1-4915-c28d-975f493b8e18"
      },
      "execution_count": 16,
      "outputs": [
        {
          "output_type": "stream",
          "name": "stdout",
          "text": [
            "0 1 2\n",
            "3 4 5\n",
            "6 7 8\n"
          ]
        }
      ]
    },
    {
      "cell_type": "code",
      "source": [
        "dictionary1={\"key1\":100,\"key2\":200,\"key3\":300}"
      ],
      "metadata": {
        "id": "9hwxjbl2t4h2"
      },
      "execution_count": 17,
      "outputs": []
    },
    {
      "cell_type": "code",
      "source": [
        "dictionary1.items()"
      ],
      "metadata": {
        "colab": {
          "base_uri": "https://localhost:8080/"
        },
        "id": "F74F_NALuDrS",
        "outputId": "c0945e6a-e366-4d90-8742-74387f28dfdd"
      },
      "execution_count": 18,
      "outputs": [
        {
          "output_type": "execute_result",
          "data": {
            "text/plain": [
              "dict_items([('key1', 100), ('key2', 200), ('key3', 300)])"
            ]
          },
          "metadata": {},
          "execution_count": 18
        }
      ]
    },
    {
      "cell_type": "code",
      "source": [
        "for a,b in dictionary1.items():\n",
        "  print(a,b)"
      ],
      "metadata": {
        "colab": {
          "base_uri": "https://localhost:8080/"
        },
        "id": "WQOMS6bGuNaq",
        "outputId": "ad96019b-90b4-4da2-a5d3-ae4a194df84f"
      },
      "execution_count": 19,
      "outputs": [
        {
          "output_type": "stream",
          "name": "stdout",
          "text": [
            "key1 100\n",
            "key2 200\n",
            "key3 300\n"
          ]
        }
      ]
    }
  ]
}
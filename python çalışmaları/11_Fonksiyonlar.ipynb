{
  "nbformat": 4,
  "nbformat_minor": 0,
  "metadata": {
    "colab": {
      "name": "11-Fonksiyonlar.ipynb",
      "provenance": []
    },
    "kernelspec": {
      "name": "python3",
      "display_name": "Python 3"
    },
    "language_info": {
      "name": "python"
    }
  },
  "cells": [
    {
      "cell_type": "code",
      "execution_count": 1,
      "metadata": {
        "id": "ZeDH9JH7IPZu"
      },
      "outputs": [],
      "source": [
        "def hello_world():\n",
        "  print(\"hello world\")"
      ]
    },
    {
      "cell_type": "code",
      "source": [
        "hello_world()"
      ],
      "metadata": {
        "colab": {
          "base_uri": "https://localhost:8080/"
        },
        "id": "TD4FiFooU566",
        "outputId": "3fd4b81c-13d4-42c6-8b8f-4ac80c661939"
      },
      "execution_count": 2,
      "outputs": [
        {
          "output_type": "stream",
          "name": "stdout",
          "text": [
            "hello world\n"
          ]
        }
      ]
    },
    {
      "cell_type": "markdown",
      "source": [
        "input-return"
      ],
      "metadata": {
        "id": "82ZmEsGCViI7"
      }
    },
    {
      "cell_type": "code",
      "source": [
        "def hello_programming(name):\n",
        "  print(\"hello\")\n",
        "  print(name)"
      ],
      "metadata": {
        "id": "Mgxn78uIVj5-"
      },
      "execution_count": 3,
      "outputs": []
    },
    {
      "cell_type": "code",
      "source": [
        "hello_programming(\"python\")"
      ],
      "metadata": {
        "colab": {
          "base_uri": "https://localhost:8080/"
        },
        "id": "XZi4F7G_V0aJ",
        "outputId": "9a551fb3-6806-4067-e9ca-08d5323d32fd"
      },
      "execution_count": 4,
      "outputs": [
        {
          "output_type": "stream",
          "name": "stdout",
          "text": [
            "hello\n",
            "python\n"
          ]
        }
      ]
    },
    {
      "cell_type": "code",
      "source": [
        "def hello_program(name=\"python\"):\n",
        "  print(\"hello\")\n",
        "  print(name)"
      ],
      "metadata": {
        "id": "4HrQY2vxWK3N"
      },
      "execution_count": 5,
      "outputs": []
    },
    {
      "cell_type": "code",
      "source": [
        "hello_program()"
      ],
      "metadata": {
        "colab": {
          "base_uri": "https://localhost:8080/"
        },
        "id": "GLHcsW__WWM4",
        "outputId": "ae923f35-8f3c-41ae-bf27-cc0a85ffb9c2"
      },
      "execution_count": 6,
      "outputs": [
        {
          "output_type": "stream",
          "name": "stdout",
          "text": [
            "hello\n",
            "python\n"
          ]
        }
      ]
    },
    {
      "cell_type": "code",
      "source": [
        "hello_program(\"java\")"
      ],
      "metadata": {
        "colab": {
          "base_uri": "https://localhost:8080/"
        },
        "id": "O71h0ZQ0WaJ5",
        "outputId": "225c74d7-2d42-4f80-e645-293d0fedb69d"
      },
      "execution_count": 7,
      "outputs": [
        {
          "output_type": "stream",
          "name": "stdout",
          "text": [
            "hello\n",
            "java\n"
          ]
        }
      ]
    },
    {
      "cell_type": "code",
      "source": [
        "def sumn(number1,number2):\n",
        "  number3 = number1+number2\n",
        "  print(number3)"
      ],
      "metadata": {
        "id": "Uzx0OXrgWrdQ"
      },
      "execution_count": 8,
      "outputs": []
    },
    {
      "cell_type": "code",
      "source": [
        "sumn(5,8)"
      ],
      "metadata": {
        "colab": {
          "base_uri": "https://localhost:8080/"
        },
        "id": "Kq1KDdvrXCXu",
        "outputId": "553909d7-91b3-42a6-9735-66596f0b5bd2"
      },
      "execution_count": 9,
      "outputs": [
        {
          "output_type": "stream",
          "name": "stdout",
          "text": [
            "13\n"
          ]
        }
      ]
    },
    {
      "cell_type": "code",
      "source": [
        "def summation (num1,num2,num3):\n",
        "  return num1+num2+num3"
      ],
      "metadata": {
        "id": "Bz-yqNBiXUBI"
      },
      "execution_count": 10,
      "outputs": []
    },
    {
      "cell_type": "code",
      "source": [
        "summation(10,20,30)"
      ],
      "metadata": {
        "colab": {
          "base_uri": "https://localhost:8080/"
        },
        "id": "rRLSAE8RXf-6",
        "outputId": "3a37e8a7-9dd5-49af-bfd0-f4dfcc575628"
      },
      "execution_count": 11,
      "outputs": [
        {
          "output_type": "execute_result",
          "data": {
            "text/plain": [
              "60"
            ]
          },
          "metadata": {},
          "execution_count": 11
        }
      ]
    },
    {
      "cell_type": "code",
      "source": [
        "def control_string(s):\n",
        "  if s[0]==\"m\":\n",
        "    print(\"mmm\")"
      ],
      "metadata": {
        "id": "rxqPAGyMX8mb"
      },
      "execution_count": 12,
      "outputs": []
    },
    {
      "cell_type": "code",
      "source": [
        "control_string(\"merhaba\")"
      ],
      "metadata": {
        "colab": {
          "base_uri": "https://localhost:8080/"
        },
        "id": "vkFP_lBqYGmq",
        "outputId": "5d1e7566-f488-410a-9a0b-06cd16bef0a4"
      },
      "execution_count": 13,
      "outputs": [
        {
          "output_type": "stream",
          "name": "stdout",
          "text": [
            "mmm\n"
          ]
        }
      ]
    },
    {
      "cell_type": "code",
      "source": [
        "def control_string2(s):\n",
        "  if s[0]==\"m\":\n",
        "    print(s.capitalize())"
      ],
      "metadata": {
        "id": "IBLS3FSYYXQ7"
      },
      "execution_count": 14,
      "outputs": []
    },
    {
      "cell_type": "code",
      "source": [
        "control_string2(\"merhaba\")"
      ],
      "metadata": {
        "colab": {
          "base_uri": "https://localhost:8080/"
        },
        "id": "qS7xzI7nYiiR",
        "outputId": "1f1283c5-5737-464e-fff2-87e03e185c6e"
      },
      "execution_count": 15,
      "outputs": [
        {
          "output_type": "stream",
          "name": "stdout",
          "text": [
            "Merhaba\n"
          ]
        }
      ]
    },
    {
      "cell_type": "markdown",
      "source": [
        "arbitrary argument and key word arguments"
      ],
      "metadata": {
        "id": "Ct1unotkZQgE"
      }
    },
    {
      "cell_type": "code",
      "source": [
        "#kullanıcının istediği kadar sayıyı toplayan\n",
        "def summation_2(* args):\n",
        "  return sum(args)"
      ],
      "metadata": {
        "id": "bUGj3Eo-ZX9V"
      },
      "execution_count": 16,
      "outputs": []
    },
    {
      "cell_type": "code",
      "source": [
        "summation_2(10,20,30)"
      ],
      "metadata": {
        "colab": {
          "base_uri": "https://localhost:8080/"
        },
        "id": "V6FIs4GPaEl3",
        "outputId": "c661e75a-04aa-4f8a-d100-3880f98ec3ba"
      },
      "execution_count": 17,
      "outputs": [
        {
          "output_type": "execute_result",
          "data": {
            "text/plain": [
              "60"
            ]
          },
          "metadata": {},
          "execution_count": 17
        }
      ]
    },
    {
      "cell_type": "code",
      "source": [
        "def example_func(**kwargs):\n",
        "  print(kwargs)"
      ],
      "metadata": {
        "id": "jeWddzvJb1LJ"
      },
      "execution_count": 18,
      "outputs": []
    },
    {
      "cell_type": "code",
      "source": [
        "example_func(run=100,swim=200,basketball=300)"
      ],
      "metadata": {
        "colab": {
          "base_uri": "https://localhost:8080/"
        },
        "id": "Pdfjk0TdcB3V",
        "outputId": "1a2267dd-795f-4355-f7e8-d4aa1982cd36"
      },
      "execution_count": 19,
      "outputs": [
        {
          "output_type": "stream",
          "name": "stdout",
          "text": [
            "{'run': 100, 'swim': 200, 'basketball': 300}\n"
          ]
        }
      ]
    },
    {
      "cell_type": "code",
      "source": [
        "example_func(a=1,b=2)"
      ],
      "metadata": {
        "colab": {
          "base_uri": "https://localhost:8080/"
        },
        "id": "OegRG7otcNOv",
        "outputId": "9c75c3db-0933-434d-e5aa-b020c57eb685"
      },
      "execution_count": 20,
      "outputs": [
        {
          "output_type": "stream",
          "name": "stdout",
          "text": [
            "{'a': 1, 'b': 2}\n"
          ]
        }
      ]
    },
    {
      "cell_type": "markdown",
      "source": [
        "**kwargs girdiklerimizi sözlük haline getirir"
      ],
      "metadata": {
        "id": "Uq9y16o_cT1R"
      }
    },
    {
      "cell_type": "code",
      "source": [
        "def keyword_func(**kwargs):\n",
        "  if \"metallica\" in kwargs:\n",
        "    print(\"heavy metal\")\n",
        "  else:\n",
        "    print(\"rock is dead\")  "
      ],
      "metadata": {
        "id": "4MPC4p0ycb6W"
      },
      "execution_count": 21,
      "outputs": []
    },
    {
      "cell_type": "code",
      "source": [
        "keyword_func(metallica=10,madonna=20,muslum=4)"
      ],
      "metadata": {
        "colab": {
          "base_uri": "https://localhost:8080/"
        },
        "id": "JphUYgYfc-my",
        "outputId": "d149e564-f55c-4b25-d590-1e97780ab037"
      },
      "execution_count": 22,
      "outputs": [
        {
          "output_type": "stream",
          "name": "stdout",
          "text": [
            "heavy metal\n"
          ]
        }
      ]
    }
  ]
}
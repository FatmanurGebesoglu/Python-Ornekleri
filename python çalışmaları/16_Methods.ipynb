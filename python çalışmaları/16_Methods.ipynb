{
  "nbformat": 4,
  "nbformat_minor": 0,
  "metadata": {
    "colab": {
      "name": "16-Methods.ipynb",
      "provenance": []
    },
    "kernelspec": {
      "name": "python3",
      "display_name": "Python 3"
    },
    "language_info": {
      "name": "python"
    }
  },
  "cells": [
    {
      "cell_type": "code",
      "execution_count": 20,
      "metadata": {
        "id": "GdT1970YA15u"
      },
      "outputs": [],
      "source": [
        "class Fruits():\n",
        "  def __init__(self,name,calories):\n",
        "    self.name= name\n",
        "    self.calories=calories\n",
        "  def __str__(self):\n",
        "    return f\"{self.name} has {self.calories}\"\n",
        "  def __len__(self):\n",
        "    return self.calories  \n"
      ]
    },
    {
      "cell_type": "code",
      "source": [
        "myfruit= Fruits(\"banana\",200)"
      ],
      "metadata": {
        "id": "ddIZ06AqB8kA"
      },
      "execution_count": 21,
      "outputs": []
    },
    {
      "cell_type": "code",
      "source": [
        "myfruit.calories"
      ],
      "metadata": {
        "colab": {
          "base_uri": "https://localhost:8080/"
        },
        "id": "8_g2JtSCCFsu",
        "outputId": "f031f652-efa3-4c0b-bffc-1c40313da425"
      },
      "execution_count": 22,
      "outputs": [
        {
          "output_type": "execute_result",
          "data": {
            "text/plain": [
              "200"
            ]
          },
          "metadata": {},
          "execution_count": 22
        }
      ]
    },
    {
      "cell_type": "code",
      "source": [
        "print(myfruit)"
      ],
      "metadata": {
        "colab": {
          "base_uri": "https://localhost:8080/"
        },
        "id": "Yoi5NCeqCdQT",
        "outputId": "b59a0b4c-fa67-46b2-ea99-b898fc716a7b"
      },
      "execution_count": 23,
      "outputs": [
        {
          "output_type": "stream",
          "name": "stdout",
          "text": [
            "banana has 200\n"
          ]
        }
      ]
    },
    {
      "cell_type": "code",
      "source": [
        "len(myfruit)"
      ],
      "metadata": {
        "colab": {
          "base_uri": "https://localhost:8080/"
        },
        "id": "VO14cUQgC-BV",
        "outputId": "fb383240-8bda-4a03-c13d-b1d4fb1227e2"
      },
      "execution_count": 24,
      "outputs": [
        {
          "output_type": "execute_result",
          "data": {
            "text/plain": [
              "200"
            ]
          },
          "metadata": {},
          "execution_count": 24
        }
      ]
    },
    {
      "cell_type": "code",
      "source": [
        ""
      ],
      "metadata": {
        "id": "uVL_d2VBEdTC"
      },
      "execution_count": null,
      "outputs": []
    }
  ]
}
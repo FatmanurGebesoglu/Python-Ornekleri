{
  "nbformat": 4,
  "nbformat_minor": 0,
  "metadata": {
    "colab": {
      "name": "5-if.ipynb",
      "provenance": []
    },
    "kernelspec": {
      "name": "python3",
      "display_name": "Python 3"
    },
    "language_info": {
      "name": "python"
    }
  },
  "cells": [
    {
      "cell_type": "code",
      "execution_count": 1,
      "metadata": {
        "colab": {
          "base_uri": "https://localhost:8080/"
        },
        "id": "W-Jc8ex1RjWa",
        "outputId": "53f5c3ce-f90d-4d16-e079-8014be6e24e0"
      },
      "outputs": [
        {
          "output_type": "stream",
          "name": "stdout",
          "text": [
            "3 is greater than 2\n"
          ]
        }
      ],
      "source": [
        "if 3>2:\n",
        "  print(\"3 is greater than 2\")"
      ]
    },
    {
      "cell_type": "code",
      "source": [
        "x=5\n",
        "y=4\n",
        "if x>y:\n",
        "  print(\"x is greater\")\n",
        "elif x==y:\n",
        "  print(\"x is y\")  \n",
        "else:\n",
        "  print(\"y is greater\")  "
      ],
      "metadata": {
        "colab": {
          "base_uri": "https://localhost:8080/"
        },
        "id": "CTETKuxBTrLp",
        "outputId": "9180c4f4-9d93-4f4e-f6fa-2b5f5fcbe68d"
      },
      "execution_count": 4,
      "outputs": [
        {
          "output_type": "stream",
          "name": "stdout",
          "text": [
            "x is greater\n"
          ]
        }
      ]
    },
    {
      "cell_type": "code",
      "source": [
        "my_superhero=input(\"superhero:\")\n"
      ],
      "metadata": {
        "colab": {
          "base_uri": "https://localhost:8080/"
        },
        "id": "0TlTrsjpUx-x",
        "outputId": "d698de82-57db-401a-8f62-50c844662216"
      },
      "execution_count": 5,
      "outputs": [
        {
          "name": "stdout",
          "output_type": "stream",
          "text": [
            "superhero:batman\n"
          ]
        }
      ]
    },
    {
      "cell_type": "code",
      "source": [
        "if my_superhero==\"batman\":\n",
        "  print(\"batman\")\n",
        "elif my_superhero==\"superman\":\n",
        "  print(\"superman\")\n",
        "elif my_superhero==\"ironman\":\n",
        "  print(\"ironman\")    \n",
        "else:\n",
        "  print(\":(\")  "
      ],
      "metadata": {
        "colab": {
          "base_uri": "https://localhost:8080/"
        },
        "id": "zr12FkhNVR7L",
        "outputId": "6aa140ff-60eb-45ed-8e24-c5cb33d17438"
      },
      "execution_count": 6,
      "outputs": [
        {
          "output_type": "stream",
          "name": "stdout",
          "text": [
            "batman\n"
          ]
        }
      ]
    },
    {
      "cell_type": "code",
      "source": [
        "my_string=\"hello world\"\n",
        "if my_string==\"hello world\":\n",
        "  print(\"equal\")"
      ],
      "metadata": {
        "colab": {
          "base_uri": "https://localhost:8080/"
        },
        "id": "Uru12SjmV_Yw",
        "outputId": "5d095612-4c7a-470e-9d42-1cd09e28201c"
      },
      "execution_count": 7,
      "outputs": [
        {
          "output_type": "stream",
          "name": "stdout",
          "text": [
            "equal\n"
          ]
        }
      ]
    },
    {
      "cell_type": "code",
      "source": [
        "if \"hello\" in my_string:\n",
        "  print(\"true\")\n",
        "else:\n",
        "  print(\"false\") "
      ],
      "metadata": {
        "colab": {
          "base_uri": "https://localhost:8080/"
        },
        "id": "LzfAYNL6XNkL",
        "outputId": "c16c5fd3-0f85-4f68-97b1-7de9ffed1eb2"
      },
      "execution_count": 9,
      "outputs": [
        {
          "output_type": "stream",
          "name": "stdout",
          "text": [
            "true\n"
          ]
        }
      ]
    },
    {
      "cell_type": "code",
      "source": [
        "my_list=[1,2,3]\n",
        "if 2 in my_list:\n",
        "  print(\"true\")\n",
        "else:\n",
        "  print(\"false\")  "
      ],
      "metadata": {
        "colab": {
          "base_uri": "https://localhost:8080/"
        },
        "id": "Q6kr2qE9XkiK",
        "outputId": "8b98461c-2329-4490-fb73-32624a05e0f4"
      },
      "execution_count": 11,
      "outputs": [
        {
          "output_type": "stream",
          "name": "stdout",
          "text": [
            "true\n"
          ]
        }
      ]
    },
    {
      "cell_type": "code",
      "source": [
        "my_dictionary={\"k1\":100,\"k2\":200,\"k3\":300}"
      ],
      "metadata": {
        "id": "TaO6SlY7X8em"
      },
      "execution_count": 14,
      "outputs": []
    },
    {
      "cell_type": "code",
      "source": [
        "if 100 in my_dictionary.keys():\n",
        "  print(\"true\")\n",
        "else:\n",
        "  print(\"false\")"
      ],
      "metadata": {
        "colab": {
          "base_uri": "https://localhost:8080/"
        },
        "id": "qi0HFayLYn6x",
        "outputId": "7ce76a5c-cf4d-4b51-c050-a0ffbee82afc"
      },
      "execution_count": 15,
      "outputs": [
        {
          "output_type": "stream",
          "name": "stdout",
          "text": [
            "false\n"
          ]
        }
      ]
    }
  ]
}
{
  "nbformat": 4,
  "nbformat_minor": 0,
  "metadata": {
    "colab": {
      "name": "7-break-continue-pass.ipynb",
      "provenance": []
    },
    "kernelspec": {
      "name": "python3",
      "display_name": "Python 3"
    },
    "language_info": {
      "name": "python"
    }
  },
  "cells": [
    {
      "cell_type": "code",
      "execution_count": 1,
      "metadata": {
        "id": "E0iqWU1lxsGX"
      },
      "outputs": [],
      "source": [
        "my_list=[10,20,30,40,50,60]"
      ]
    },
    {
      "cell_type": "code",
      "source": [
        "for number in my_list:\n",
        "  print(number)"
      ],
      "metadata": {
        "colab": {
          "base_uri": "https://localhost:8080/"
        },
        "id": "quacz_M7yEkW",
        "outputId": "41972dfc-ddf2-42fa-f14e-621c6d200ab3"
      },
      "execution_count": 2,
      "outputs": [
        {
          "output_type": "stream",
          "name": "stdout",
          "text": [
            "10\n",
            "20\n",
            "30\n",
            "40\n",
            "50\n",
            "60\n"
          ]
        }
      ]
    },
    {
      "cell_type": "code",
      "source": [
        "for num in my_list:\n",
        "  if num==30:\n",
        "    break\n",
        "  print(num*5)"
      ],
      "metadata": {
        "colab": {
          "base_uri": "https://localhost:8080/"
        },
        "id": "Pyb5zqKUyTta",
        "outputId": "db845e5f-fbfb-46d5-a45e-cf0aa799ac15"
      },
      "execution_count": 3,
      "outputs": [
        {
          "output_type": "stream",
          "name": "stdout",
          "text": [
            "50\n",
            "100\n"
          ]
        }
      ]
    },
    {
      "cell_type": "code",
      "source": [
        "for num in my_list:\n",
        "  if num == 30:\n",
        "   continue\n",
        "  print(num*5)"
      ],
      "metadata": {
        "colab": {
          "base_uri": "https://localhost:8080/"
        },
        "id": "PG8RQ8oMy0y8",
        "outputId": "a27da595-6a95-4951-eb9b-1fc4deebad11"
      },
      "execution_count": 4,
      "outputs": [
        {
          "output_type": "stream",
          "name": "stdout",
          "text": [
            "50\n",
            "100\n",
            "200\n",
            "250\n",
            "300\n"
          ]
        }
      ]
    },
    {
      "cell_type": "code",
      "source": [
        "for num in my_list:\n",
        "  pass\n",
        "  #pass bir şey yapmadan devam et demek "
      ],
      "metadata": {
        "colab": {
          "base_uri": "https://localhost:8080/"
        },
        "id": "RDt2XoPTzLdG",
        "outputId": "d305886e-a065-4e37-c278-fdbaa301ceb1"
      },
      "execution_count": 5,
      "outputs": [
        {
          "output_type": "stream",
          "name": "stdout",
          "text": [
            "50\n",
            "100\n",
            "150\n",
            "200\n",
            "250\n",
            "300\n"
          ]
        }
      ]
    }
  ]
}
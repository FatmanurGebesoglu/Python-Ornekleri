{
  "nbformat": 4,
  "nbformat_minor": 0,
  "metadata": {
    "colab": {
      "name": "3-tuple.ipynb",
      "provenance": []
    },
    "kernelspec": {
      "name": "python3",
      "display_name": "Python 3"
    },
    "language_info": {
      "name": "python"
    }
  },
  "cells": [
    {
      "cell_type": "code",
      "execution_count": 1,
      "metadata": {
        "colab": {
          "base_uri": "https://localhost:8080/"
        },
        "id": "TouifBQhC45v",
        "outputId": "ceae5475-0f40-46dd-c314-8e5157ca53c8"
      },
      "outputs": [
        {
          "output_type": "execute_result",
          "data": {
            "text/plain": [
              "['b', 1, 'c']"
            ]
          },
          "metadata": {},
          "execution_count": 1
        }
      ],
      "source": [
        "my_list=[\"a\",1,\"c\"]\n",
        "my_list[0]=\"b\"\n",
        "my_list"
      ]
    },
    {
      "cell_type": "code",
      "source": [
        "my_tuple=(\"a\",1,\"c\")\n",
        "my_tuple\n",
        "#my_tuple[0]=\"b\" bu hata verir listelerdeki gibi yapamayız immutable"
      ],
      "metadata": {
        "colab": {
          "base_uri": "https://localhost:8080/"
        },
        "id": "yG7o7q5_Dp44",
        "outputId": "bfe40b76-7050-4e14-f228-49746a64359c"
      },
      "execution_count": 2,
      "outputs": [
        {
          "output_type": "execute_result",
          "data": {
            "text/plain": [
              "('a', 1, 'c')"
            ]
          },
          "metadata": {},
          "execution_count": 2
        }
      ]
    },
    {
      "cell_type": "markdown",
      "source": [
        "tuple ları verilerin değişmesini istemeiğimiz zamanlarda kullanırız."
      ],
      "metadata": {
        "id": "ngE8B2WOEGNX"
      }
    },
    {
      "cell_type": "code",
      "source": [
        "my_tuple.count(\"a\")\n",
        "#tuple içindeki a ları sayar"
      ],
      "metadata": {
        "colab": {
          "base_uri": "https://localhost:8080/"
        },
        "id": "G5m0zSuNEBH3",
        "outputId": "d75a8ec3-2051-4c85-9ef5-1711542d6176"
      },
      "execution_count": 3,
      "outputs": [
        {
          "output_type": "execute_result",
          "data": {
            "text/plain": [
              "1"
            ]
          },
          "metadata": {},
          "execution_count": 3
        }
      ]
    }
  ]
}
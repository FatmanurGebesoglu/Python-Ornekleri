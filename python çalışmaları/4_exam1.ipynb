{
  "nbformat": 4,
  "nbformat_minor": 0,
  "metadata": {
    "colab": {
      "name": "4-exam1.ipynb",
      "provenance": []
    },
    "kernelspec": {
      "name": "python3",
      "display_name": "Python 3"
    },
    "language_info": {
      "name": "python"
    }
  },
  "cells": [
    {
      "cell_type": "code",
      "execution_count": null,
      "metadata": {
        "id": "7bU3NmUlFzqO"
      },
      "outputs": [],
      "source": [
        "# 1) Aşağıdaki String'in 5. harfini my_letter isimli bir değişkene atayınız."
      ]
    },
    {
      "cell_type": "code",
      "source": [
        "my_string = \"James Hetfield\""
      ],
      "metadata": {
        "id": "XzknNZKYHZPZ"
      },
      "execution_count": null,
      "outputs": []
    },
    {
      "cell_type": "code",
      "source": [
        "my_string[4]"
      ],
      "metadata": {
        "colab": {
          "base_uri": "https://localhost:8080/",
          "height": 35
        },
        "id": "2hwQLUzgHbLz",
        "outputId": "a52f7209-e812-4b66-c361-0f877cc73394"
      },
      "execution_count": null,
      "outputs": [
        {
          "output_type": "execute_result",
          "data": {
            "application/vnd.google.colaboratory.intrinsic+json": {
              "type": "string"
            },
            "text/plain": [
              "'s'"
            ]
          },
          "metadata": {},
          "execution_count": 3
        }
      ]
    },
    {
      "cell_type": "code",
      "source": [
        "# Aşağıdaki String'in 5. ve 8. karakteri arasındaki tüm harflerini yazdırınız (5 ve 8 dahil)\n"
      ],
      "metadata": {
        "id": "J3DrQmC3Hc3A"
      },
      "execution_count": null,
      "outputs": []
    },
    {
      "cell_type": "code",
      "source": [
        "my_new_string = \"QuentinTarantino\""
      ],
      "metadata": {
        "id": "vrPJ9VbEHiSi"
      },
      "execution_count": 2,
      "outputs": []
    },
    {
      "cell_type": "code",
      "source": [
        "my_new_string[4:7]"
      ],
      "metadata": {
        "id": "2sIz7bTOHj7V",
        "colab": {
          "base_uri": "https://localhost:8080/",
          "height": 35
        },
        "outputId": "a4b32939-493a-488e-da67-90f0d465ab45"
      },
      "execution_count": 3,
      "outputs": [
        {
          "output_type": "execute_result",
          "data": {
            "application/vnd.google.colaboratory.intrinsic+json": {
              "type": "string"
            },
            "text/plain": [
              "'tin'"
            ]
          },
          "metadata": {},
          "execution_count": 3
        }
      ]
    },
    {
      "cell_type": "code",
      "source": [
        "# Aşağıdaki String'i kod ile tersten yazın"
      ],
      "metadata": {
        "id": "Nubr3ISLHl6p"
      },
      "execution_count": null,
      "outputs": []
    },
    {
      "cell_type": "code",
      "source": [
        "my_last_string = \"Afyonkarahisarlılaştıramadıklarımızdanmısınız\""
      ],
      "metadata": {
        "id": "Au0ZDM5eHobH"
      },
      "execution_count": 4,
      "outputs": []
    },
    {
      "cell_type": "code",
      "source": [
        "my_last_string[::-1]"
      ],
      "metadata": {
        "id": "mH0glKhLHpYw",
        "colab": {
          "base_uri": "https://localhost:8080/",
          "height": 35
        },
        "outputId": "82ccda0c-1d5d-4ecb-d67d-c498e8d63ec0"
      },
      "execution_count": 11,
      "outputs": [
        {
          "output_type": "execute_result",
          "data": {
            "application/vnd.google.colaboratory.intrinsic+json": {
              "type": "string"
            },
            "text/plain": [
              "'zınısımnadzımıralkıdamarıtşalılrasiharaknoyfA'"
            ]
          },
          "metadata": {},
          "execution_count": 11
        }
      ]
    },
    {
      "cell_type": "code",
      "source": [
        "# 1) Aşağıdaki işlemin sonucu hangi veri tipinde olacaktır?"
      ],
      "metadata": {
        "id": "NUy3D5YBHq8E"
      },
      "execution_count": null,
      "outputs": []
    },
    {
      "cell_type": "markdown",
      "source": [
        "3 + 10.2 + 50"
      ],
      "metadata": {
        "id": "YdapVhR2HuHB"
      }
    },
    {
      "cell_type": "code",
      "source": [
        "x=3+10.2+50\n",
        "type(x)"
      ],
      "metadata": {
        "id": "MGB_ZJMHHxIx",
        "colab": {
          "base_uri": "https://localhost:8080/"
        },
        "outputId": "11d6c584-eb7c-4ff1-f296-60f86742763e"
      },
      "execution_count": 9,
      "outputs": [
        {
          "output_type": "execute_result",
          "data": {
            "text/plain": [
              "float"
            ]
          },
          "metadata": {},
          "execution_count": 9
        }
      ]
    },
    {
      "cell_type": "code",
      "source": [
        "# 2) Aşağıdaki işlemin sonucu kaçtır?"
      ],
      "metadata": {
        "id": "MnbiHHJnKSW_"
      },
      "execution_count": null,
      "outputs": []
    },
    {
      "cell_type": "markdown",
      "source": [
        "5 + 8 * 12"
      ],
      "metadata": {
        "id": "9qTOk3ffKUHa"
      }
    },
    {
      "cell_type": "code",
      "source": [
        "y=5+8*12\n",
        "type(y)"
      ],
      "metadata": {
        "id": "FhvHuzlIKVr9",
        "colab": {
          "base_uri": "https://localhost:8080/"
        },
        "outputId": "bedf34e0-da41-494c-a7f0-a65854c1d5bc"
      },
      "execution_count": 10,
      "outputs": [
        {
          "output_type": "execute_result",
          "data": {
            "text/plain": [
              "int"
            ]
          },
          "metadata": {},
          "execution_count": 10
        }
      ]
    },
    {
      "cell_type": "code",
      "source": [
        "# 1) Bu listeyi 3 farklı yoldan oluşturunuz: [1,2,\"a\"]"
      ],
      "metadata": {
        "id": "bNsWx58PKYmD"
      },
      "execution_count": null,
      "outputs": []
    },
    {
      "cell_type": "code",
      "source": [
        "list1=[1,2,\"a\"]\n",
        "list1"
      ],
      "metadata": {
        "id": "a8p66fUMKab3",
        "colab": {
          "base_uri": "https://localhost:8080/"
        },
        "outputId": "d89311e9-872b-474f-8653-805b89b3ed68"
      },
      "execution_count": 12,
      "outputs": [
        {
          "output_type": "execute_result",
          "data": {
            "text/plain": [
              "[1, 2, 'a']"
            ]
          },
          "metadata": {},
          "execution_count": 12
        }
      ]
    },
    {
      "cell_type": "code",
      "source": [
        "list2=[]\n",
        "list2.append(1)\n",
        "list2.append(2)\n",
        "list2.append(\"a\")\n",
        "list2"
      ],
      "metadata": {
        "id": "MalFEQ9hKcJy",
        "colab": {
          "base_uri": "https://localhost:8080/"
        },
        "outputId": "e47675c1-fb99-4e4a-fb7a-af4d372e40ec"
      },
      "execution_count": 15,
      "outputs": [
        {
          "output_type": "execute_result",
          "data": {
            "text/plain": [
              "[1, 2, 'a']"
            ]
          },
          "metadata": {},
          "execution_count": 15
        }
      ]
    },
    {
      "cell_type": "code",
      "source": [
        "list3=list()\n",
        "list3.append(1)\n",
        "list3.append(2)\n",
        "list3.append(\"a\")\n",
        "list3"
      ],
      "metadata": {
        "id": "YHX_7ZQiKeLO",
        "colab": {
          "base_uri": "https://localhost:8080/"
        },
        "outputId": "6febfd34-414b-4c4d-aa4c-b20a7fd04448"
      },
      "execution_count": 16,
      "outputs": [
        {
          "output_type": "execute_result",
          "data": {
            "text/plain": [
              "[1, 2, 'a']"
            ]
          },
          "metadata": {},
          "execution_count": 16
        }
      ]
    },
    {
      "cell_type": "code",
      "source": [
        "#2) Aşağıdaki \"a\"'yı tek satırda alınız:"
      ],
      "metadata": {
        "id": "WWj3JsFrKfzq"
      },
      "execution_count": null,
      "outputs": []
    },
    {
      "cell_type": "code",
      "source": [
        "my_list = [1,4,[2,3,\"a\"]]"
      ],
      "metadata": {
        "id": "w__7PX6fKht2"
      },
      "execution_count": 18,
      "outputs": []
    },
    {
      "cell_type": "code",
      "source": [
        "my_list[2][2]"
      ],
      "metadata": {
        "id": "4bUH1BmXKnmb",
        "colab": {
          "base_uri": "https://localhost:8080/",
          "height": 35
        },
        "outputId": "cdb3c590-ec27-4d68-b7c4-2956b531cf23"
      },
      "execution_count": 19,
      "outputs": [
        {
          "output_type": "execute_result",
          "data": {
            "application/vnd.google.colaboratory.intrinsic+json": {
              "type": "string"
            },
            "text/plain": [
              "'a'"
            ]
          },
          "metadata": {},
          "execution_count": 19
        }
      ]
    },
    {
      "cell_type": "code",
      "source": [
        "# 3) Aşağıdaki \"b\"'yi tek satırda alınız:"
      ],
      "metadata": {
        "id": "peLqRb0lKpMO"
      },
      "execution_count": null,
      "outputs": []
    },
    {
      "cell_type": "code",
      "source": [
        "my_dictionary = {\"k1\":2, \"kk\":[4,{\"kkkk\":\"b\"}]}"
      ],
      "metadata": {
        "id": "YL5aqkB1Kqhx"
      },
      "execution_count": 21,
      "outputs": []
    },
    {
      "cell_type": "code",
      "source": [
        "my_dictionary[\"kk\"][1][\"kkkk\"]"
      ],
      "metadata": {
        "id": "oFNsjS_cKsBr",
        "colab": {
          "base_uri": "https://localhost:8080/",
          "height": 35
        },
        "outputId": "75a8e2ca-aee1-4d4f-8366-c48c6b0f156f"
      },
      "execution_count": 22,
      "outputs": [
        {
          "output_type": "execute_result",
          "data": {
            "application/vnd.google.colaboratory.intrinsic+json": {
              "type": "string"
            },
            "text/plain": [
              "'b'"
            ]
          },
          "metadata": {},
          "execution_count": 22
        }
      ]
    },
    {
      "cell_type": "code",
      "source": [
        "# 4) Aşağıdaki liste set'e çevirilince hangi değerler içinde kalacaktır?"
      ],
      "metadata": {
        "id": "G8aGiJIQKub-"
      },
      "execution_count": null,
      "outputs": []
    },
    {
      "cell_type": "code",
      "source": [
        "my_list_to_be_set = [11,12,22,33,11,22,45,32,21,22,33,45]"
      ],
      "metadata": {
        "id": "jPHmYzjOKvX6"
      },
      "execution_count": null,
      "outputs": []
    },
    {
      "cell_type": "code",
      "source": [
        "# 11,12,22,33,45,32,21"
      ],
      "metadata": {
        "id": "hyeggFY4Kw0_"
      },
      "execution_count": null,
      "outputs": []
    },
    {
      "cell_type": "code",
      "source": [
        "# 1) Aşağıdaki ifadenin sonucu ne olacaktır?"
      ],
      "metadata": {
        "id": "k7hW9Yq4KyFo"
      },
      "execution_count": null,
      "outputs": []
    },
    {
      "cell_type": "code",
      "source": [
        "x = 40 * 5 + 3\n",
        "y = 208 - 2 * 4"
      ],
      "metadata": {
        "id": "aaFfD2u5K01r",
        "colab": {
          "base_uri": "https://localhost:8080/"
        },
        "outputId": "620442f7-4aef-4172-9538-1496b2eea4e3"
      },
      "execution_count": 23,
      "outputs": [
        {
          "output_type": "execute_result",
          "data": {
            "text/plain": [
              "200"
            ]
          },
          "metadata": {},
          "execution_count": 23
        }
      ]
    },
    {
      "cell_type": "code",
      "source": [
        "y"
      ],
      "metadata": {
        "colab": {
          "base_uri": "https://localhost:8080/"
        },
        "id": "BoBHWJFSQiNh",
        "outputId": "4471995d-762d-4cdb-9a18-b122dfad35d5"
      },
      "execution_count": 24,
      "outputs": [
        {
          "output_type": "execute_result",
          "data": {
            "text/plain": [
              "200"
            ]
          },
          "metadata": {},
          "execution_count": 24
        }
      ]
    },
    {
      "cell_type": "code",
      "source": [
        "x"
      ],
      "metadata": {
        "colab": {
          "base_uri": "https://localhost:8080/"
        },
        "id": "wb7YkKNKQmmv",
        "outputId": "378753a2-a01f-4a05-94e2-6e512ae1707c"
      },
      "execution_count": 25,
      "outputs": [
        {
          "output_type": "execute_result",
          "data": {
            "text/plain": [
              "203"
            ]
          },
          "metadata": {},
          "execution_count": 25
        }
      ]
    },
    {
      "cell_type": "markdown",
      "source": [
        "x > y"
      ],
      "metadata": {
        "id": "hAHe4lvNK4RU"
      }
    },
    {
      "cell_type": "code",
      "source": [
        "# Cevap 1)true"
      ],
      "metadata": {
        "id": "UtMkJj6MK5n-"
      },
      "execution_count": null,
      "outputs": []
    },
    {
      "cell_type": "code",
      "source": [
        "# 2) Aşağıdaki ifadenin sonucu ne olacaktır?"
      ],
      "metadata": {
        "id": "dBYkJzAKK7K4"
      },
      "execution_count": null,
      "outputs": []
    },
    {
      "cell_type": "code",
      "source": [
        "a = 40 * (4 - 2)"
      ],
      "metadata": {
        "id": "8W6oPPxNK9GW"
      },
      "execution_count": 26,
      "outputs": []
    },
    {
      "cell_type": "code",
      "source": [
        "b = 80 - 2 * -5"
      ],
      "metadata": {
        "id": "WyF-fs_-K-UA"
      },
      "execution_count": 27,
      "outputs": []
    },
    {
      "cell_type": "code",
      "source": [
        "a"
      ],
      "metadata": {
        "colab": {
          "base_uri": "https://localhost:8080/"
        },
        "id": "oleb1F0PQtTD",
        "outputId": "343a857d-52e6-4ae4-b677-20ccfeb4e6fd"
      },
      "execution_count": 28,
      "outputs": [
        {
          "output_type": "execute_result",
          "data": {
            "text/plain": [
              "80"
            ]
          },
          "metadata": {},
          "execution_count": 28
        }
      ]
    },
    {
      "cell_type": "code",
      "source": [
        "b"
      ],
      "metadata": {
        "colab": {
          "base_uri": "https://localhost:8080/"
        },
        "id": "ynDVRcE1QuJz",
        "outputId": "f8815e5c-5110-4eb7-976e-aa50c5b191d7"
      },
      "execution_count": 29,
      "outputs": [
        {
          "output_type": "execute_result",
          "data": {
            "text/plain": [
              "90"
            ]
          },
          "metadata": {},
          "execution_count": 29
        }
      ]
    },
    {
      "cell_type": "markdown",
      "source": [
        "a > b"
      ],
      "metadata": {
        "id": "92ILUgCmLAEE"
      }
    },
    {
      "cell_type": "code",
      "source": [
        "# Cevap 2)false"
      ],
      "metadata": {
        "id": "hQ9DSeFALCBI"
      },
      "execution_count": null,
      "outputs": []
    }
  ]
}
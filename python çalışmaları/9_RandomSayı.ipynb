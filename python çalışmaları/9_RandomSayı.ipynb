{
  "nbformat": 4,
  "nbformat_minor": 0,
  "metadata": {
    "colab": {
      "name": "9-RandomSayı.ipynb",
      "provenance": []
    },
    "kernelspec": {
      "name": "python3",
      "display_name": "Python 3"
    },
    "language_info": {
      "name": "python"
    }
  },
  "cells": [
    {
      "cell_type": "code",
      "execution_count": 1,
      "metadata": {
        "id": "NS2dAB_iRLjZ"
      },
      "outputs": [],
      "source": [
        "from random import randint"
      ]
    },
    {
      "cell_type": "code",
      "source": [
        "randint(0,1000)"
      ],
      "metadata": {
        "colab": {
          "base_uri": "https://localhost:8080/"
        },
        "id": "IZIwSr_WR5jT",
        "outputId": "52bbb07d-b548-4e62-df4d-0fd6f06d3c03"
      },
      "execution_count": 2,
      "outputs": [
        {
          "output_type": "execute_result",
          "data": {
            "text/plain": [
              "81"
            ]
          },
          "metadata": {},
          "execution_count": 2
        }
      ]
    },
    {
      "cell_type": "code",
      "source": [
        "randint(0,1000)"
      ],
      "metadata": {
        "colab": {
          "base_uri": "https://localhost:8080/"
        },
        "id": "CEBIG1pnSBbP",
        "outputId": "c753432e-d8f4-4efe-b994-11b8320c0e57"
      },
      "execution_count": 3,
      "outputs": [
        {
          "output_type": "execute_result",
          "data": {
            "text/plain": [
              "577"
            ]
          },
          "metadata": {},
          "execution_count": 3
        }
      ]
    },
    {
      "cell_type": "code",
      "source": [
        "list1=list(range(0,10))"
      ],
      "metadata": {
        "id": "4ocDQs5pSJvq"
      },
      "execution_count": 4,
      "outputs": []
    },
    {
      "cell_type": "code",
      "source": [
        "list1"
      ],
      "metadata": {
        "colab": {
          "base_uri": "https://localhost:8080/"
        },
        "id": "8j8n-YuwSQUv",
        "outputId": "eb5d3f7d-4584-4585-eb4f-c60e227a3299"
      },
      "execution_count": 5,
      "outputs": [
        {
          "output_type": "execute_result",
          "data": {
            "text/plain": [
              "[0, 1, 2, 3, 4, 5, 6, 7, 8, 9]"
            ]
          },
          "metadata": {},
          "execution_count": 5
        }
      ]
    },
    {
      "cell_type": "code",
      "source": [
        "from random import shuffle"
      ],
      "metadata": {
        "id": "v-vr3PntUtZ0"
      },
      "execution_count": 6,
      "outputs": []
    },
    {
      "cell_type": "markdown",
      "source": [
        "listenin elemanlarını karıştırmak için kullanırız"
      ],
      "metadata": {
        "id": "hPIZyOkrU67M"
      }
    },
    {
      "cell_type": "code",
      "source": [
        "shuffle(list1)"
      ],
      "metadata": {
        "id": "1Ou7e8X9Ux0-"
      },
      "execution_count": 9,
      "outputs": []
    },
    {
      "cell_type": "code",
      "source": [
        "list1"
      ],
      "metadata": {
        "colab": {
          "base_uri": "https://localhost:8080/"
        },
        "id": "iUgE0Cj2U3ss",
        "outputId": "f87850db-37b1-4c43-a5a1-c02284d5450e"
      },
      "execution_count": 10,
      "outputs": [
        {
          "output_type": "execute_result",
          "data": {
            "text/plain": [
              "[9, 0, 7, 3, 1, 5, 8, 4, 6, 2]"
            ]
          },
          "metadata": {},
          "execution_count": 10
        }
      ]
    },
    {
      "cell_type": "markdown",
      "source": [
        "listeleri birleştirmek için de zip kullanılır"
      ],
      "metadata": {
        "id": "w2vyhMo3VJE5"
      }
    },
    {
      "cell_type": "code",
      "source": [
        "suport=[\"run\",\"swim\",\"basket\"]"
      ],
      "metadata": {
        "id": "oe2ZZKZzVUi8"
      },
      "execution_count": 11,
      "outputs": []
    },
    {
      "cell_type": "code",
      "source": [
        "kalori=[100,200,300]"
      ],
      "metadata": {
        "id": "EIIAgr7eViVZ"
      },
      "execution_count": 12,
      "outputs": []
    },
    {
      "cell_type": "code",
      "source": [
        "days=[\"mon\",\"tue\",\"wen\"]"
      ],
      "metadata": {
        "id": "lUR1YtcMV0Rj"
      },
      "execution_count": 13,
      "outputs": []
    },
    {
      "cell_type": "code",
      "source": [
        "newlist=list(zip(suport,kalori,days))"
      ],
      "metadata": {
        "id": "UnTW2Wf8V64a"
      },
      "execution_count": 17,
      "outputs": []
    },
    {
      "cell_type": "code",
      "source": [
        "newlist"
      ],
      "metadata": {
        "colab": {
          "base_uri": "https://localhost:8080/"
        },
        "id": "-txbfe_5WAQn",
        "outputId": "02225e38-ba5f-4d55-ae71-b2534d03abdf"
      },
      "execution_count": 18,
      "outputs": [
        {
          "output_type": "execute_result",
          "data": {
            "text/plain": [
              "[('run', 100, 'mon'), ('swim', 200, 'tue'), ('basket', 300, 'wen')]"
            ]
          },
          "metadata": {},
          "execution_count": 18
        }
      ]
    }
  ]
}
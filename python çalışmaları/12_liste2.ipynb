{
  "nbformat": 4,
  "nbformat_minor": 0,
  "metadata": {
    "colab": {
      "name": "12-liste2.ipynb",
      "provenance": []
    },
    "kernelspec": {
      "name": "python3",
      "display_name": "Python 3"
    },
    "language_info": {
      "name": "python"
    }
  },
  "cells": [
    {
      "cell_type": "code",
      "execution_count": 16,
      "metadata": {
        "id": "ui8IMwb88HXL"
      },
      "outputs": [],
      "source": [
        "def divide (number):\n",
        "  return number/2"
      ]
    },
    {
      "cell_type": "code",
      "source": [
        "divide(10)"
      ],
      "metadata": {
        "colab": {
          "base_uri": "https://localhost:8080/"
        },
        "id": "lF0SuSQ9-p4O",
        "outputId": "ffaac033-d351-48ce-b71f-50a77da74b20"
      },
      "execution_count": 17,
      "outputs": [
        {
          "output_type": "execute_result",
          "data": {
            "text/plain": [
              "5.0"
            ]
          },
          "metadata": {},
          "execution_count": 17
        }
      ]
    },
    {
      "cell_type": "code",
      "source": [
        "list1=[1,2,3,4,5,6,7,8]"
      ],
      "metadata": {
        "id": "G665C0Yo_CGW"
      },
      "execution_count": 18,
      "outputs": []
    },
    {
      "cell_type": "code",
      "source": [
        "mylist=[]\n",
        "for num in list1:\n",
        "  mylist.append(divide(num))\n",
        "print(mylist)  "
      ],
      "metadata": {
        "colab": {
          "base_uri": "https://localhost:8080/"
        },
        "id": "Fe9TlGv5_IC_",
        "outputId": "b14663cf-3dcd-41f7-e591-7c50d607b963"
      },
      "execution_count": 19,
      "outputs": [
        {
          "output_type": "stream",
          "name": "stdout",
          "text": [
            "[0.5, 1.0, 1.5, 2.0, 2.5, 3.0, 3.5, 4.0]\n"
          ]
        }
      ]
    },
    {
      "cell_type": "markdown",
      "source": [
        "MAP"
      ],
      "metadata": {
        "id": "1x2K68n4_hPk"
      }
    },
    {
      "cell_type": "code",
      "source": [
        "list(map(divide,list1))"
      ],
      "metadata": {
        "colab": {
          "base_uri": "https://localhost:8080/"
        },
        "id": "XoIcj7Qp_-GW",
        "outputId": "92105747-70f4-4aed-832a-cdb60d4b1dcf"
      },
      "execution_count": 20,
      "outputs": [
        {
          "output_type": "execute_result",
          "data": {
            "text/plain": [
              "[0.5, 1.0, 1.5, 2.0, 2.5, 3.0, 3.5, 4.0]"
            ]
          },
          "metadata": {},
          "execution_count": 20
        }
      ]
    },
    {
      "cell_type": "code",
      "source": [
        "def control_string(string):\n",
        "  return \"metallica\" in string"
      ],
      "metadata": {
        "id": "PRFB3oVMBnCz"
      },
      "execution_count": 21,
      "outputs": []
    },
    {
      "cell_type": "code",
      "source": [
        "control_string(\"metallica is here\")"
      ],
      "metadata": {
        "colab": {
          "base_uri": "https://localhost:8080/"
        },
        "id": "UWKbe6neB-jh",
        "outputId": "f220d858-f7a5-410e-a2bb-90c01ff6abff"
      },
      "execution_count": 22,
      "outputs": [
        {
          "output_type": "execute_result",
          "data": {
            "text/plain": [
              "True"
            ]
          },
          "metadata": {},
          "execution_count": 22
        }
      ]
    },
    {
      "cell_type": "code",
      "source": [
        "myartistlist=[\"metallica\",\"madonna\",\"queen\",\"megadeth\",\"muslum\"]"
      ],
      "metadata": {
        "id": "cAvIgRVUCWzi"
      },
      "execution_count": 23,
      "outputs": []
    },
    {
      "cell_type": "code",
      "source": [
        "list(map(control_string,myartistlist))"
      ],
      "metadata": {
        "colab": {
          "base_uri": "https://localhost:8080/"
        },
        "id": "nNKq7UwXCkSa",
        "outputId": "3c23bf18-bca8-45d7-cdbd-d774d156e518"
      },
      "execution_count": 24,
      "outputs": [
        {
          "output_type": "execute_result",
          "data": {
            "text/plain": [
              "[True, False, False, False, False]"
            ]
          },
          "metadata": {},
          "execution_count": 24
        }
      ]
    },
    {
      "cell_type": "markdown",
      "source": [
        "filter"
      ],
      "metadata": {
        "id": "IYH33bbwCwLX"
      }
    },
    {
      "cell_type": "code",
      "source": [
        "list(filter(control_string,myartistlist))"
      ],
      "metadata": {
        "colab": {
          "base_uri": "https://localhost:8080/"
        },
        "id": "t69kXAtzCxVD",
        "outputId": "45094f01-6333-44a3-f913-568874d6b602"
      },
      "execution_count": 25,
      "outputs": [
        {
          "output_type": "execute_result",
          "data": {
            "text/plain": [
              "['metallica']"
            ]
          },
          "metadata": {},
          "execution_count": 25
        }
      ]
    },
    {
      "cell_type": "markdown",
      "source": [
        "lambda"
      ],
      "metadata": {
        "id": "TepI71H_DLAH"
      }
    },
    {
      "cell_type": "code",
      "source": [
        "def multiply(number):\n",
        "  return number*3"
      ],
      "metadata": {
        "id": "4tkuP9xcDM9R"
      },
      "execution_count": 26,
      "outputs": []
    },
    {
      "cell_type": "code",
      "source": [
        "multiply(5)"
      ],
      "metadata": {
        "colab": {
          "base_uri": "https://localhost:8080/"
        },
        "id": "asJkyd4dEVYP",
        "outputId": "035d2efb-008b-42ea-de4a-7a8c3292a160"
      },
      "execution_count": 27,
      "outputs": [
        {
          "output_type": "execute_result",
          "data": {
            "text/plain": [
              "15"
            ]
          },
          "metadata": {},
          "execution_count": 27
        }
      ]
    },
    {
      "cell_type": "code",
      "source": [
        "carpma= lambda number:number*3"
      ],
      "metadata": {
        "id": "1t8COPfMEcDC"
      },
      "execution_count": 28,
      "outputs": []
    },
    {
      "cell_type": "code",
      "source": [
        "carpma(5)"
      ],
      "metadata": {
        "colab": {
          "base_uri": "https://localhost:8080/"
        },
        "id": "suHEPCxTEf8R",
        "outputId": "59a631f3-02f3-45f8-f41c-93023e7c75df"
      },
      "execution_count": 29,
      "outputs": [
        {
          "output_type": "execute_result",
          "data": {
            "text/plain": [
              "15"
            ]
          },
          "metadata": {},
          "execution_count": 29
        }
      ]
    },
    {
      "cell_type": "code",
      "source": [
        "mylist1=[3,5,7,9]"
      ],
      "metadata": {
        "id": "CWaHINoWErsO"
      },
      "execution_count": 30,
      "outputs": []
    },
    {
      "cell_type": "code",
      "source": [
        "list(map(lambda num:num*4,mylist1))"
      ],
      "metadata": {
        "colab": {
          "base_uri": "https://localhost:8080/"
        },
        "id": "z5yAp20_Ewgz",
        "outputId": "9168350c-2895-4642-bd18-3c7bd6f68708"
      },
      "execution_count": 31,
      "outputs": [
        {
          "output_type": "execute_result",
          "data": {
            "text/plain": [
              "[12, 20, 28, 36]"
            ]
          },
          "metadata": {},
          "execution_count": 31
        }
      ]
    },
    {
      "cell_type": "code",
      "source": [
        ""
      ],
      "metadata": {
        "id": "moarubq8FT9e"
      },
      "execution_count": null,
      "outputs": []
    }
  ]
}
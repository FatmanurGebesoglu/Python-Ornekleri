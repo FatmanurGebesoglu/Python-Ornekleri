{
  "nbformat": 4,
  "nbformat_minor": 0,
  "metadata": {
    "colab": {
      "name": "dictionary.ipynb",
      "provenance": []
    },
    "kernelspec": {
      "name": "python3",
      "display_name": "Python 3"
    },
    "language_info": {
      "name": "python"
    }
  },
  "cells": [
    {
      "cell_type": "code",
      "execution_count": 1,
      "metadata": {
        "colab": {
          "base_uri": "https://localhost:8080/",
          "height": 35
        },
        "id": "qihME_AlwFIx",
        "outputId": "2f3c4831-fb18-4a34-eb42-c986ed06d164"
      },
      "outputs": [
        {
          "output_type": "execute_result",
          "data": {
            "application/vnd.google.colaboratory.intrinsic+json": {
              "type": "string"
            },
            "text/plain": [
              "'araba'"
            ]
          },
          "metadata": {},
          "execution_count": 1
        }
      ],
      "source": [
        "my_dictionary={\"car\":\"araba\",\"house\":\"ev\",\"student\":\"öğrenci\"}\n",
        "my_dictionary[\"car\"]"
      ]
    },
    {
      "cell_type": "code",
      "source": [
        "my_dictionary2={\"key1\":1,\"key2\":2,\"key3\":\"apple\"}\n"
      ],
      "metadata": {
        "id": "xAdhOp0C3VrK"
      },
      "execution_count": 2,
      "outputs": []
    },
    {
      "cell_type": "code",
      "source": [
        "my_dictionary2[\"key1\"]"
      ],
      "metadata": {
        "colab": {
          "base_uri": "https://localhost:8080/"
        },
        "id": "h7qH1v603jVf",
        "outputId": "5aff99b9-317d-4582-9454-16fc034d54c3"
      },
      "execution_count": 4,
      "outputs": [
        {
          "output_type": "execute_result",
          "data": {
            "text/plain": [
              "1"
            ]
          },
          "metadata": {},
          "execution_count": 4
        }
      ]
    },
    {
      "cell_type": "code",
      "source": [
        "my_dictionary2[\"key3\"]"
      ],
      "metadata": {
        "id": "ZF847pIq3xd3"
      },
      "execution_count": null,
      "outputs": []
    },
    {
      "cell_type": "code",
      "source": [
        "my_dictionary2.keys()"
      ],
      "metadata": {
        "colab": {
          "base_uri": "https://localhost:8080/"
        },
        "id": "lxPBuTTk4dyO",
        "outputId": "4e00c8ea-ca06-404e-ca99-804de8328176"
      },
      "execution_count": 5,
      "outputs": [
        {
          "output_type": "execute_result",
          "data": {
            "text/plain": [
              "dict_keys(['key1', 'key2', 'key3'])"
            ]
          },
          "metadata": {},
          "execution_count": 5
        }
      ]
    },
    {
      "cell_type": "code",
      "source": [
        "my_dictionary2.values()"
      ],
      "metadata": {
        "colab": {
          "base_uri": "https://localhost:8080/"
        },
        "id": "JyomtRfE4m-d",
        "outputId": "b21a3829-46ce-41c5-d716-90aa1e4c6096"
      },
      "execution_count": 6,
      "outputs": [
        {
          "output_type": "execute_result",
          "data": {
            "text/plain": [
              "dict_values([1, 2, 'apple'])"
            ]
          },
          "metadata": {},
          "execution_count": 6
        }
      ]
    },
    {
      "cell_type": "code",
      "source": [
        "my_dictionary3={\"key1\":100,\"key2\":[10,20,30],\"key3\":{\"a\":5}}"
      ],
      "metadata": {
        "id": "hvjmg0fs41ES"
      },
      "execution_count": 7,
      "outputs": []
    },
    {
      "cell_type": "code",
      "source": [
        "my_dictionary3[\"key3\"][\"a\"]"
      ],
      "metadata": {
        "colab": {
          "base_uri": "https://localhost:8080/"
        },
        "id": "B5xaTQr65sLM",
        "outputId": "fc29d70d-a111-4a0e-ac8b-1aeb5dc2e3c0"
      },
      "execution_count": 8,
      "outputs": [
        {
          "output_type": "execute_result",
          "data": {
            "text/plain": [
              "5"
            ]
          },
          "metadata": {},
          "execution_count": 8
        }
      ]
    },
    {
      "cell_type": "code",
      "source": [
        "my_dictionary4={\"k1\":1,\"k2\":2}"
      ],
      "metadata": {
        "id": "_ADdPG0o57jt"
      },
      "execution_count": 9,
      "outputs": []
    },
    {
      "cell_type": "code",
      "source": [
        "my_dictionary4[\"k1\"]=3"
      ],
      "metadata": {
        "id": "puFnwu_16HTJ"
      },
      "execution_count": 10,
      "outputs": []
    },
    {
      "cell_type": "code",
      "source": [
        "my_dictionary4"
      ],
      "metadata": {
        "colab": {
          "base_uri": "https://localhost:8080/"
        },
        "id": "SBvlpgGe6PET",
        "outputId": "7adfdf89-1281-4004-ae0c-e6f987bfe75c"
      },
      "execution_count": 11,
      "outputs": [
        {
          "output_type": "execute_result",
          "data": {
            "text/plain": [
              "{'k1': 3, 'k2': 2}"
            ]
          },
          "metadata": {},
          "execution_count": 11
        }
      ]
    },
    {
      "cell_type": "code",
      "source": [
        "my_dictionary4[\"k3\"]=7"
      ],
      "metadata": {
        "id": "YZx9a6Gf6YHX"
      },
      "execution_count": 12,
      "outputs": []
    },
    {
      "cell_type": "code",
      "source": [
        "my_dictionary4"
      ],
      "metadata": {
        "colab": {
          "base_uri": "https://localhost:8080/"
        },
        "id": "sveUWAVS6dp9",
        "outputId": "f417cc59-aac7-4f5e-f9eb-9471a1f277a3"
      },
      "execution_count": 13,
      "outputs": [
        {
          "output_type": "execute_result",
          "data": {
            "text/plain": [
              "{'k1': 3, 'k2': 2, 'k3': 7}"
            ]
          },
          "metadata": {},
          "execution_count": 13
        }
      ]
    }
  ]
}
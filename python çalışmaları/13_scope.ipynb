{
  "nbformat": 4,
  "nbformat_minor": 0,
  "metadata": {
    "colab": {
      "name": "13-scope.ipynb",
      "provenance": []
    },
    "kernelspec": {
      "name": "python3",
      "display_name": "Python 3"
    },
    "language_info": {
      "name": "python"
    }
  },
  "cells": [
    {
      "cell_type": "code",
      "execution_count": 1,
      "metadata": {
        "id": "jiEXajMaJO1d"
      },
      "outputs": [],
      "source": [
        "number=10\n",
        "def multiply(num):\n",
        "  number=5\n",
        "  return num*number"
      ]
    },
    {
      "cell_type": "code",
      "source": [
        "multiply(10)"
      ],
      "metadata": {
        "colab": {
          "base_uri": "https://localhost:8080/"
        },
        "id": "9YgibevbKz_p",
        "outputId": "053c2a66-3e80-4912-888b-05a74f88e53e"
      },
      "execution_count": 2,
      "outputs": [
        {
          "output_type": "execute_result",
          "data": {
            "text/plain": [
              "50"
            ]
          },
          "metadata": {},
          "execution_count": 2
        }
      ]
    },
    {
      "cell_type": "code",
      "source": [
        "print(number)"
      ],
      "metadata": {
        "colab": {
          "base_uri": "https://localhost:8080/"
        },
        "id": "kQyy6OtHLRYf",
        "outputId": "ce545e8d-3ec4-4386-e17d-0d730359b4ce"
      },
      "execution_count": 3,
      "outputs": [
        {
          "output_type": "stream",
          "name": "stdout",
          "text": [
            "10\n"
          ]
        }
      ]
    },
    {
      "cell_type": "markdown",
      "source": [
        "LEGB\n",
        "\n",
        "L:LOCAL\n",
        "E:ENCLOSİNG\n",
        "G:GLOBAL\n",
        "B:BUILT-IN"
      ],
      "metadata": {
        "id": "Onv864-zLfW5"
      }
    },
    {
      "cell_type": "code",
      "source": [
        "name=\"fatmanur\"\n",
        "#global\n",
        "def myfunc():\n",
        "  name=\"nur\"\n",
        "  #enclosing\n",
        "  def myfunc2():\n",
        "    #local\n",
        "    name=\"fatma nur gebeşoğlu\"\n",
        "    print(name)\n",
        "  myfunc2()  "
      ],
      "metadata": {
        "id": "B3dLYMbzLvLe"
      },
      "execution_count": 7,
      "outputs": []
    },
    {
      "cell_type": "code",
      "source": [
        "myfunc()"
      ],
      "metadata": {
        "colab": {
          "base_uri": "https://localhost:8080/"
        },
        "id": "HLktlTnlNCjF",
        "outputId": "f8ff0b69-0019-49d6-c76b-6df8f74762c1"
      },
      "execution_count": 8,
      "outputs": [
        {
          "output_type": "stream",
          "name": "stdout",
          "text": [
            "fatma nur gebeşoğlu\n"
          ]
        }
      ]
    },
    {
      "cell_type": "code",
      "source": [
        "y=10\n",
        "\n",
        "def funcnew(y):\n",
        "  print(y)\n",
        "  y=5\n",
        "  print(y)\n",
        "  return y"
      ],
      "metadata": {
        "id": "MK7KTndbNJrV"
      },
      "execution_count": 11,
      "outputs": []
    },
    {
      "cell_type": "code",
      "source": [
        "funcnew(10)"
      ],
      "metadata": {
        "colab": {
          "base_uri": "https://localhost:8080/"
        },
        "id": "xfN1cyKnOHZh",
        "outputId": "8f220a7c-8530-4500-87a4-06facff494dd"
      },
      "execution_count": 12,
      "outputs": [
        {
          "output_type": "stream",
          "name": "stdout",
          "text": [
            "10\n",
            "5\n"
          ]
        },
        {
          "output_type": "execute_result",
          "data": {
            "text/plain": [
              "5"
            ]
          },
          "metadata": {},
          "execution_count": 12
        }
      ]
    },
    {
      "cell_type": "code",
      "source": [
        "x=10\n",
        "def funcnew2():\n",
        "  global x\n",
        "  x=5\n",
        "  print(x)"
      ],
      "metadata": {
        "id": "OyYftyi2OJUe"
      },
      "execution_count": 13,
      "outputs": []
    },
    {
      "cell_type": "code",
      "source": [
        "funcnew2()"
      ],
      "metadata": {
        "colab": {
          "base_uri": "https://localhost:8080/"
        },
        "id": "1io1Qgn7OmMj",
        "outputId": "9d3bf8f6-2104-41b9-f4ec-188ba7028f14"
      },
      "execution_count": 14,
      "outputs": [
        {
          "output_type": "stream",
          "name": "stdout",
          "text": [
            "5\n"
          ]
        }
      ]
    },
    {
      "cell_type": "code",
      "source": [
        ""
      ],
      "metadata": {
        "id": "nzsyaT7ROsSz"
      },
      "execution_count": null,
      "outputs": []
    }
  ]
}
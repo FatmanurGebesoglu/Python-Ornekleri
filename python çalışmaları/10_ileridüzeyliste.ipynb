{
  "nbformat": 4,
  "nbformat_minor": 0,
  "metadata": {
    "colab": {
      "name": "10-ileridüzeyliste.ipynb",
      "provenance": []
    },
    "kernelspec": {
      "name": "python3",
      "display_name": "Python 3"
    },
    "language_info": {
      "name": "python"
    }
  },
  "cells": [
    {
      "cell_type": "markdown",
      "source": [
        "ileri düzey liste işlemleri"
      ],
      "metadata": {
        "id": "9lAnXoWUFXms"
      }
    },
    {
      "cell_type": "code",
      "execution_count": 1,
      "metadata": {
        "id": "8NBnlwGUFWBc"
      },
      "outputs": [],
      "source": [
        "list1=[]\n",
        "string1=\"merhaba\""
      ]
    },
    {
      "cell_type": "code",
      "source": [
        "for element in string1:\n",
        "  list1.append(element)"
      ],
      "metadata": {
        "id": "PoWgExMhFinU"
      },
      "execution_count": 2,
      "outputs": []
    },
    {
      "cell_type": "code",
      "source": [
        "list1"
      ],
      "metadata": {
        "colab": {
          "base_uri": "https://localhost:8080/"
        },
        "id": "YWoXRwP0FuEy",
        "outputId": "198cb371-eeeb-469b-8279-e4a55dc3e4c7"
      },
      "execution_count": 3,
      "outputs": [
        {
          "output_type": "execute_result",
          "data": {
            "text/plain": [
              "['m', 'e', 'r', 'h', 'a', 'b', 'a']"
            ]
          },
          "metadata": {},
          "execution_count": 3
        }
      ]
    },
    {
      "cell_type": "markdown",
      "source": [
        "yukarıdaki kodun daha kısa hali:"
      ],
      "metadata": {
        "id": "xyT-mnHmFyyM"
      }
    },
    {
      "cell_type": "code",
      "source": [
        "list2=[element for element in string1]"
      ],
      "metadata": {
        "id": "t3MLG4o-F2K2"
      },
      "execution_count": 4,
      "outputs": []
    },
    {
      "cell_type": "code",
      "source": [
        "list2"
      ],
      "metadata": {
        "colab": {
          "base_uri": "https://localhost:8080/"
        },
        "id": "TsQEIkT2Gi6U",
        "outputId": "5795fae5-f505-49ce-f364-8cc4bcd3addc"
      },
      "execution_count": 5,
      "outputs": [
        {
          "output_type": "execute_result",
          "data": {
            "text/plain": [
              "['m', 'e', 'r', 'h', 'a', 'b', 'a']"
            ]
          },
          "metadata": {},
          "execution_count": 5
        }
      ]
    },
    {
      "cell_type": "code",
      "source": [
        "list3=[number**5 for number in list(range(0,10))]"
      ],
      "metadata": {
        "id": "WYVDYH2iGsWk"
      },
      "execution_count": 11,
      "outputs": []
    },
    {
      "cell_type": "code",
      "source": [
        "list3"
      ],
      "metadata": {
        "colab": {
          "base_uri": "https://localhost:8080/"
        },
        "id": "yvsk7xkiG4yK",
        "outputId": "99a0c153-4007-4f7b-d79b-93a9424079b6"
      },
      "execution_count": 12,
      "outputs": [
        {
          "output_type": "execute_result",
          "data": {
            "text/plain": [
              "[0, 1, 32, 243, 1024, 3125, 7776, 16807, 32768, 59049]"
            ]
          },
          "metadata": {},
          "execution_count": 12
        }
      ]
    }
  ]
}
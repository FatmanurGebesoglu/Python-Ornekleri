{
  "nbformat": 4,
  "nbformat_minor": 0,
  "metadata": {
    "colab": {
      "name": "15-OOPclasses.ipynb",
      "provenance": [],
      "collapsed_sections": []
    },
    "kernelspec": {
      "name": "python3",
      "display_name": "Python 3"
    },
    "language_info": {
      "name": "python"
    }
  },
  "cells": [
    {
      "cell_type": "markdown",
      "source": [
        "class"
      ],
      "metadata": {
        "id": "alPS3rXKcaST"
      }
    },
    {
      "cell_type": "code",
      "source": [
        "mylist=list()\n",
        "#instance attribute\n",
        "#class kullanırken camel case kullanılır"
      ],
      "metadata": {
        "id": "jQcMLAnyceVY"
      },
      "execution_count": 80,
      "outputs": []
    },
    {
      "cell_type": "code",
      "source": [
        "class Musician():\n",
        "  job=\"musician\"\n",
        "  def __init__(self,name,age,enstruman):\n",
        "    #bu initli def fonksiyonu biz bir obje oluşturduğumuzda ilk bunu yazmalıyız\n",
        "    self.name= name\n",
        "    self.age= age\n",
        "    self.enstruman= enstruman\n",
        "\n",
        "  #method\n",
        "  def sing(self):\n",
        "    print(f\"lost on you {self.enstruman}\")    "
      ],
      "metadata": {
        "id": "jB1e_1iNe-lG"
      },
      "execution_count": 81,
      "outputs": []
    },
    {
      "cell_type": "code",
      "source": [
        "my_musician= Musician(\"james\",50,\"saz\")"
      ],
      "metadata": {
        "id": "VQ7WeM48gCvs"
      },
      "execution_count": 82,
      "outputs": []
    },
    {
      "cell_type": "code",
      "source": [
        "my_musician.name=\"LP\""
      ],
      "metadata": {
        "id": "jyLcW_2MgXy7"
      },
      "execution_count": 83,
      "outputs": []
    },
    {
      "cell_type": "code",
      "source": [
        "my_musician.name"
      ],
      "metadata": {
        "colab": {
          "base_uri": "https://localhost:8080/",
          "height": 35
        },
        "id": "yiwh6LhlgkKO",
        "outputId": "11789735-445e-4296-95e2-267f7c538329"
      },
      "execution_count": 84,
      "outputs": [
        {
          "output_type": "execute_result",
          "data": {
            "application/vnd.google.colaboratory.intrinsic+json": {
              "type": "string"
            },
            "text/plain": [
              "'LP'"
            ]
          },
          "metadata": {},
          "execution_count": 84
        }
      ]
    },
    {
      "cell_type": "code",
      "source": [
        "my_musician.job=\"singer\""
      ],
      "metadata": {
        "id": "JAN09zisgmvW"
      },
      "execution_count": 85,
      "outputs": []
    },
    {
      "cell_type": "code",
      "source": [
        "my_musician.job"
      ],
      "metadata": {
        "colab": {
          "base_uri": "https://localhost:8080/",
          "height": 35
        },
        "id": "-Jhv6pugiEYw",
        "outputId": "ffbcf9aa-44e1-421c-a7dd-7d28a94a7bd2"
      },
      "execution_count": 86,
      "outputs": [
        {
          "output_type": "execute_result",
          "data": {
            "application/vnd.google.colaboratory.intrinsic+json": {
              "type": "string"
            },
            "text/plain": [
              "'singer'"
            ]
          },
          "metadata": {},
          "execution_count": 86
        }
      ]
    },
    {
      "cell_type": "code",
      "source": [
        "my_musician.sing()"
      ],
      "metadata": {
        "colab": {
          "base_uri": "https://localhost:8080/"
        },
        "id": "gRXaXOHTiGXT",
        "outputId": "7c2eba03-ab0f-41c3-a703-01f10b2e7ff2"
      },
      "execution_count": 87,
      "outputs": [
        {
          "output_type": "stream",
          "name": "stdout",
          "text": [
            "lost on you saz\n"
          ]
        }
      ]
    },
    {
      "cell_type": "code",
      "source": [
        "class DogYears():\n",
        "  year_factor = 7\n",
        "  def __init__(self,age=5):\n",
        "    self.age=age\n",
        "    self.name=\"bar\"\n",
        "    self.age_multiplied= age * 7\n",
        "  def calculation(self):\n",
        "    return self.age * self.year_factor"
      ],
      "metadata": {
        "id": "jo1GNqAtiihR"
      },
      "execution_count": 88,
      "outputs": []
    },
    {
      "cell_type": "code",
      "source": [
        "my_dog=DogYears()"
      ],
      "metadata": {
        "id": "OdNfAYWwkEPU"
      },
      "execution_count": 89,
      "outputs": []
    },
    {
      "cell_type": "code",
      "source": [
        "my_dog.calculation()"
      ],
      "metadata": {
        "colab": {
          "base_uri": "https://localhost:8080/"
        },
        "id": "D0c2Dw65kJ0n",
        "outputId": "2bf2a42b-de50-4220-e5a3-946e66c81786"
      },
      "execution_count": 90,
      "outputs": [
        {
          "output_type": "execute_result",
          "data": {
            "text/plain": [
              "35"
            ]
          },
          "metadata": {},
          "execution_count": 90
        }
      ]
    },
    {
      "cell_type": "code",
      "source": [
        "my_dog.age_multiplied"
      ],
      "metadata": {
        "colab": {
          "base_uri": "https://localhost:8080/"
        },
        "id": "ErqLRp5hkMX-",
        "outputId": "a081fa52-e82b-4b42-f455-5a6767224f59"
      },
      "execution_count": 91,
      "outputs": [
        {
          "output_type": "execute_result",
          "data": {
            "text/plain": [
              "35"
            ]
          },
          "metadata": {},
          "execution_count": 91
        }
      ]
    },
    {
      "cell_type": "markdown",
      "source": [
        "inheritance"
      ],
      "metadata": {
        "id": "5K4yVOY-lrlI"
      }
    },
    {
      "cell_type": "code",
      "source": [
        "class Class1():\n",
        "  def __init__(self):\n",
        "    print(\"class1 created\")\n",
        "  def method_1(self):\n",
        "    print(\"method1\")\n",
        "  def method_2(self):\n",
        "    print(\"method 2\")    \n",
        "      "
      ],
      "metadata": {
        "id": "6LQkXym3luGn"
      },
      "execution_count": 92,
      "outputs": []
    },
    {
      "cell_type": "code",
      "source": [
        "my_instance= Class1()"
      ],
      "metadata": {
        "colab": {
          "base_uri": "https://localhost:8080/"
        },
        "id": "4PnYXtlel6rP",
        "outputId": "ba7da238-2617-4115-cf2b-a7d682eac16c"
      },
      "execution_count": 93,
      "outputs": [
        {
          "output_type": "stream",
          "name": "stdout",
          "text": [
            "class1 created\n"
          ]
        }
      ]
    },
    {
      "cell_type": "code",
      "source": [
        "class Class2(Class1):\n",
        "  def __init__(self):\n",
        "    Class1.__init__(self)\n",
        "    print(\"class 2 breated\")\n",
        "  def method_3(self):\n",
        "    print(\"method \")  "
      ],
      "metadata": {
        "id": "CLkgqJUgmVCG"
      },
      "execution_count": 94,
      "outputs": []
    },
    {
      "cell_type": "code",
      "source": [
        "my_instance2=Class2()"
      ],
      "metadata": {
        "colab": {
          "base_uri": "https://localhost:8080/"
        },
        "id": "ZBeJn_zFmsBS",
        "outputId": "d7977802-cccc-4e8c-ae75-48b74fd0c37d"
      },
      "execution_count": 95,
      "outputs": [
        {
          "output_type": "stream",
          "name": "stdout",
          "text": [
            "class1 created\n",
            "class 2 breated\n"
          ]
        }
      ]
    },
    {
      "cell_type": "markdown",
      "source": [
        "polymorphism"
      ],
      "metadata": {
        "id": "nhZuSW9sneFf"
      }
    },
    {
      "cell_type": "code",
      "source": [
        "class Apple():\n",
        "  def __init__(self,name):\n",
        "   self.name=name\n",
        "  def information(self):\n",
        "    return self.name + \" 100 calories\"  "
      ],
      "metadata": {
        "id": "SF2pEuZtnhHT"
      },
      "execution_count": 120,
      "outputs": []
    },
    {
      "cell_type": "code",
      "source": [
        "class Banana():\n",
        "  def __init__(self,name):\n",
        "    self.name=name\n",
        "  def information(self):\n",
        "    return self.name  + \" 200 calories\" "
      ],
      "metadata": {
        "id": "-qPbY-YLn4kF"
      },
      "execution_count": 121,
      "outputs": []
    },
    {
      "cell_type": "code",
      "source": [
        "banana = Banana(\"banana\")"
      ],
      "metadata": {
        "id": "j3SkUfHGoeCP"
      },
      "execution_count": 122,
      "outputs": []
    },
    {
      "cell_type": "code",
      "source": [
        "apple=Apple(\"apple\")"
      ],
      "metadata": {
        "id": "jUXBYSgFoi61"
      },
      "execution_count": 123,
      "outputs": []
    },
    {
      "cell_type": "code",
      "source": [
        "banana.information()"
      ],
      "metadata": {
        "colab": {
          "base_uri": "https://localhost:8080/",
          "height": 35
        },
        "id": "EbfsvIhCoy_z",
        "outputId": "e9bc30ff-5d34-4e3a-d018-220e392304f6"
      },
      "execution_count": 124,
      "outputs": [
        {
          "output_type": "execute_result",
          "data": {
            "application/vnd.google.colaboratory.intrinsic+json": {
              "type": "string"
            },
            "text/plain": [
              "'banana 200 calories'"
            ]
          },
          "metadata": {},
          "execution_count": 124
        }
      ]
    },
    {
      "cell_type": "code",
      "source": [
        "apple.information()"
      ],
      "metadata": {
        "colab": {
          "base_uri": "https://localhost:8080/",
          "height": 35
        },
        "id": "sYB6rgJQpSTm",
        "outputId": "02d2b908-2519-4cc0-f96b-1f02a3cd8517"
      },
      "execution_count": 125,
      "outputs": [
        {
          "output_type": "execute_result",
          "data": {
            "application/vnd.google.colaboratory.intrinsic+json": {
              "type": "string"
            },
            "text/plain": [
              "'apple 100 calories'"
            ]
          },
          "metadata": {},
          "execution_count": 125
        }
      ]
    },
    {
      "cell_type": "code",
      "source": [
        "fruitlist =[banana,apple]"
      ],
      "metadata": {
        "id": "m4LWKzVmpC5G"
      },
      "execution_count": 126,
      "outputs": []
    },
    {
      "cell_type": "code",
      "source": [
        "for fruit in fruitlist:\n",
        "  print(fruit.information())"
      ],
      "metadata": {
        "colab": {
          "base_uri": "https://localhost:8080/"
        },
        "id": "nb5_g0ygpLe6",
        "outputId": "fab8423c-fa8b-4bf8-d968-f27a5724a12a"
      },
      "execution_count": 127,
      "outputs": [
        {
          "output_type": "stream",
          "name": "stdout",
          "text": [
            "banana 200 calories\n",
            "apple 100 calories\n"
          ]
        }
      ]
    },
    {
      "cell_type": "code",
      "source": [
        "def get_info(fruit):\n",
        "  print(fruit.information())"
      ],
      "metadata": {
        "id": "rTmJC-gXptUY"
      },
      "execution_count": 128,
      "outputs": []
    },
    {
      "cell_type": "code",
      "source": [
        "get_info(banana)"
      ],
      "metadata": {
        "colab": {
          "base_uri": "https://localhost:8080/"
        },
        "id": "HPTKC25Vqa7F",
        "outputId": "e8c77464-242b-4c1c-b2c3-c17047c1a0a8"
      },
      "execution_count": 129,
      "outputs": [
        {
          "output_type": "stream",
          "name": "stdout",
          "text": [
            "banana 200 calories\n"
          ]
        }
      ]
    },
    {
      "cell_type": "code",
      "source": [
        "get_info(apple)"
      ],
      "metadata": {
        "colab": {
          "base_uri": "https://localhost:8080/"
        },
        "id": "paH2wIRxqduJ",
        "outputId": "d7f49f8f-3844-4864-83f5-56032c38839c"
      },
      "execution_count": 130,
      "outputs": [
        {
          "output_type": "stream",
          "name": "stdout",
          "text": [
            "apple 100 calories\n"
          ]
        }
      ]
    }
  ]
}